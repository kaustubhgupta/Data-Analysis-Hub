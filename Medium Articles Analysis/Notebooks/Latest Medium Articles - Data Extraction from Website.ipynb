{
 "cells": [
  {
   "cell_type": "markdown",
   "metadata": {},
   "source": [
    "# Collecting Data"
   ]
  },
  {
   "cell_type": "markdown",
   "metadata": {},
   "source": [
    "## Top Publications"
   ]
  },
  {
   "cell_type": "code",
   "execution_count": 336,
   "metadata": {},
   "outputs": [],
   "source": [
    "import requests\n",
    "from bs4 import BeautifulSoup\n",
    "import pandas as pd\n",
    "import random\n",
    "import numpy as np\n",
    "import itertools\n",
    "import time"
   ]
  },
  {
   "cell_type": "code",
   "execution_count": 316,
   "metadata": {},
   "outputs": [],
   "source": [
    "response = requests.get(\"https://toppubs.smedian.com/\")\n",
    "page = response.content\n",
    "soup = BeautifulSoup(page, 'html.parser')"
   ]
  },
  {
   "cell_type": "code",
   "execution_count": 317,
   "metadata": {},
   "outputs": [],
   "source": [
    "titles = soup.find_all(\"a\", class_='heading link link--primary u-accentColor--hoverTextNormal u-displayInline')"
   ]
  },
  {
   "cell_type": "code",
   "execution_count": 318,
   "metadata": {},
   "outputs": [],
   "source": [
    "publications = [i.text for i in titles][:10]"
   ]
  },
  {
   "cell_type": "code",
   "execution_count": 319,
   "metadata": {},
   "outputs": [],
   "source": [
    "links = [i['href'] for i in titles][:10]"
   ]
  },
  {
   "cell_type": "code",
   "execution_count": 320,
   "metadata": {},
   "outputs": [
    {
     "data": {
      "text/plain": [
       "['The Startup',\n",
       " 'Mission.org',\n",
       " 'Personal Growth',\n",
       " 'HackerNoon.com',\n",
       " 'Towards Data Science',\n",
       " 'Startup Grind',\n",
       " 'The Economist',\n",
       " 'The Coinbase Blog',\n",
       " 'Better Humans',\n",
       " 'UX Collective']"
      ]
     },
     "execution_count": 320,
     "metadata": {},
     "output_type": "execute_result"
    }
   ],
   "source": [
    "publications"
   ]
  },
  {
   "cell_type": "code",
   "execution_count": 321,
   "metadata": {},
   "outputs": [
    {
     "data": {
      "text/plain": [
       "['https://medium.com/swlh',\n",
       " 'https://medium.com/the-mission',\n",
       " 'https://medium.com/personal-growth',\n",
       " 'https://medium.com/hackernoon',\n",
       " 'https://medium.com/towards-data-science',\n",
       " 'https://medium.com/startup-grind',\n",
       " 'https://medium.com/the-economist',\n",
       " 'https://medium.com/the-coinbase-blog',\n",
       " 'https://medium.com/better-humans',\n",
       " 'https://medium.com/user-experience-design-1']"
      ]
     },
     "execution_count": 321,
     "metadata": {},
     "output_type": "execute_result"
    }
   ],
   "source": [
    "links"
   ]
  },
  {
   "cell_type": "code",
   "execution_count": 322,
   "metadata": {},
   "outputs": [],
   "source": [
    "urls = {i:j+'/archive/{0}/{1:02d}/{2:02d}' for i, j in zip(publications, links)}"
   ]
  },
  {
   "cell_type": "code",
   "execution_count": 323,
   "metadata": {},
   "outputs": [
    {
     "data": {
      "text/plain": [
       "{'The Startup': 'https://medium.com/swlh/archive/{0}/{1:02d}/{2:02d}',\n",
       " 'Mission.org': 'https://medium.com/the-mission/archive/{0}/{1:02d}/{2:02d}',\n",
       " 'Personal Growth': 'https://medium.com/personal-growth/archive/{0}/{1:02d}/{2:02d}',\n",
       " 'HackerNoon.com': 'https://medium.com/hackernoon/archive/{0}/{1:02d}/{2:02d}',\n",
       " 'Towards Data Science': 'https://medium.com/towards-data-science/archive/{0}/{1:02d}/{2:02d}',\n",
       " 'Startup Grind': 'https://medium.com/startup-grind/archive/{0}/{1:02d}/{2:02d}',\n",
       " 'The Economist': 'https://medium.com/the-economist/archive/{0}/{1:02d}/{2:02d}',\n",
       " 'The Coinbase Blog': 'https://medium.com/the-coinbase-blog/archive/{0}/{1:02d}/{2:02d}',\n",
       " 'Better Humans': 'https://medium.com/better-humans/archive/{0}/{1:02d}/{2:02d}',\n",
       " 'UX Collective': 'https://medium.com/user-experience-design-1/archive/{0}/{1:02d}/{2:02d}'}"
      ]
     },
     "execution_count": 323,
     "metadata": {},
     "output_type": "execute_result"
    }
   ],
   "source": [
    "urls"
   ]
  },
  {
   "cell_type": "markdown",
   "metadata": {},
   "source": [
    "Towards Data Science,The Economist,The Coinbase Blog, UX Collective have custom domian"
   ]
  },
  {
   "cell_type": "code",
   "execution_count": 324,
   "metadata": {},
   "outputs": [],
   "source": [
    "urls['Towards Data Science'] = 'https://towardsdatascience.com/archive/{0}/{1:02d}/{2:02d}'\n",
    "urls['The Economist'] = 'https://medium.economist.com/archive/{0}/{1:02d}/{2:02d}'\n",
    "urls['The Coinbase Blog'] = 'https://blog.coinbase.com/archive/{0}/{1:02d}/{2:02d}'\n",
    "urls['UX Collective'] = 'https://uxdesign.cc/archive/{0}/{1:02d}/{2:02d}'"
   ]
  },
  {
   "cell_type": "code",
   "execution_count": 326,
   "metadata": {},
   "outputs": [
    {
     "data": {
      "text/plain": [
       "{'The Startup': 'https://medium.com/swlh/archive/{0}/{1:02d}/{2:02d}',\n",
       " 'Mission.org': 'https://medium.com/the-mission/archive/{0}/{1:02d}/{2:02d}',\n",
       " 'Personal Growth': 'https://medium.com/personal-growth/archive/{0}/{1:02d}/{2:02d}',\n",
       " 'HackerNoon.com': 'https://medium.com/hackernoon/archive/{0}/{1:02d}/{2:02d}',\n",
       " 'Towards Data Science': 'https://towardsdatascience.com/archive/{0}/{1:02d}/{2:02d}',\n",
       " 'Startup Grind': 'https://medium.com/startup-grind/archive/{0}/{1:02d}/{2:02d}',\n",
       " 'The Economist': 'https://medium.economist.com/archive/{0}/{1:02d}/{2:02d}',\n",
       " 'The Coinbase Blog': 'https://blog.coinbase.com/archive/{0}/{1:02d}/{2:02d}',\n",
       " 'Better Humans': 'https://medium.com/better-humans/archive/{0}/{1:02d}/{2:02d}',\n",
       " 'UX Collective': 'https://uxdesign.cc/archive/{0}/{1:02d}/{2:02d}'}"
      ]
     },
     "execution_count": 326,
     "metadata": {},
     "output_type": "execute_result"
    }
   ],
   "source": [
    "urls"
   ]
  },
  {
   "cell_type": "markdown",
   "metadata": {},
   "source": [
    "## Data Extraction from medium"
   ]
  },
  {
   "cell_type": "code",
   "execution_count": 327,
   "metadata": {},
   "outputs": [],
   "source": [
    "def randDates(start, end, n):\n",
    "    start_u = start.value//10**9\n",
    "    end_u = end.value//10**9\n",
    "\n",
    "    return pd.DatetimeIndex((10**9*np.random.randint(start_u, end_u, n, dtype=np.int64)).view('M8[ns]')).date"
   ]
  },
  {
   "cell_type": "code",
   "execution_count": 328,
   "metadata": {},
   "outputs": [],
   "source": [
    "start = pd.to_datetime('2020-01-01')\n",
    "end = pd.to_datetime('2020-08-01')\n",
    "dates = pd.to_datetime(pd.Series(randDates(start, end, n=50)))"
   ]
  },
  {
   "cell_type": "code",
   "execution_count": 329,
   "metadata": {},
   "outputs": [
    {
     "data": {
      "text/plain": [
       "50"
      ]
     },
     "execution_count": 329,
     "metadata": {},
     "output_type": "execute_result"
    }
   ],
   "source": [
    "len(dates)"
   ]
  },
  {
   "cell_type": "markdown",
   "metadata": {},
   "source": [
    "### Dry Test"
   ]
  },
  {
   "cell_type": "code",
   "execution_count": 264,
   "metadata": {},
   "outputs": [],
   "source": [
    "url = 'https://medium.com/swlh/archive/{0}/{1:02d}/{2:02d}'\n",
    "year = 2020\n",
    "month = dates.dt.month[0]\n",
    "day = dates.dt.day[0]"
   ]
  },
  {
   "cell_type": "code",
   "execution_count": 266,
   "metadata": {},
   "outputs": [
    {
     "data": {
      "text/plain": [
       "(2, 14)"
      ]
     },
     "execution_count": 266,
     "metadata": {},
     "output_type": "execute_result"
    }
   ],
   "source": [
    "month,day"
   ]
  },
  {
   "cell_type": "code",
   "execution_count": 248,
   "metadata": {},
   "outputs": [],
   "source": [
    "response = requests.get(url.format(year, month, day), allow_redirects=True)\n",
    "page = response.content\n",
    "soup = BeautifulSoup(page, 'html.parser')"
   ]
  },
  {
   "cell_type": "code",
   "execution_count": 249,
   "metadata": {},
   "outputs": [
    {
     "data": {
      "text/plain": [
       "(2020, 5, 21)"
      ]
     },
     "execution_count": 249,
     "metadata": {},
     "output_type": "execute_result"
    }
   ],
   "source": [
    "year,month,day"
   ]
  },
  {
   "cell_type": "code",
   "execution_count": 250,
   "metadata": {},
   "outputs": [],
   "source": [
    "articles = soup.find_all(\"div\", class_=\"postArticle postArticle--short js-postArticle js-trackPostPresentation js-trackPostScrolls\")\n",
    "\n",
    "titles = [i.find('h3',class_=\"graf--title\" ).text for i in articles]\n",
    "\n",
    "sub_titles = [i.find(\"h4\", class_=\"graf--subtitle\").text if i.find(\"h4\", class_=\"graf--subtitle\") is not None else '' for i in articles]\n",
    "\n",
    "article_link = [i.find_all('a')[3]['href'].split('?')[0] for i in articles]\n",
    "\n",
    "claps = [0 if (k is None) or (k == '') or (k.split is None) else int(float(k.split('K')[0])*1000) if len(k.split('K'))==2 else int(float(k.split('K')[0])) for k in [j.text for j in [i.find_all('button')[1] for i in articles]]]\n",
    "\n",
    "reading_time = [int(i.find(\"span\", class_=\"readingTime\")['title'].split()[0]) if i.find(\"span\", class_=\"readingTime\") is not None else 0 for i in articles]\n",
    "\n",
    "responses = [i.find_all('a')[6].text.split(' ')[0] if (len(i.find_all('a'))==7) and len(i.find_all('a')[6].text.split(' '))!=0 else 0 for i in articles]"
   ]
  },
  {
   "cell_type": "code",
   "execution_count": 262,
   "metadata": {},
   "outputs": [],
   "source": [
    "columns = ['Title', 'SubTitle', 'Link', 'Claps', 'Reading_Time', 'Responses']"
   ]
  },
  {
   "cell_type": "code",
   "execution_count": 261,
   "metadata": {},
   "outputs": [
    {
     "data": {
      "text/html": [
       "<div>\n",
       "<style scoped>\n",
       "    .dataframe tbody tr th:only-of-type {\n",
       "        vertical-align: middle;\n",
       "    }\n",
       "\n",
       "    .dataframe tbody tr th {\n",
       "        vertical-align: top;\n",
       "    }\n",
       "\n",
       "    .dataframe thead th {\n",
       "        text-align: right;\n",
       "    }\n",
       "</style>\n",
       "<table border=\"1\" class=\"dataframe\">\n",
       "  <thead>\n",
       "    <tr style=\"text-align: right;\">\n",
       "      <th></th>\n",
       "      <th>Title</th>\n",
       "      <th>SubTitle</th>\n",
       "      <th>Link</th>\n",
       "      <th>Claps</th>\n",
       "      <th>Reading_Time</th>\n",
       "      <th>Responses</th>\n",
       "    </tr>\n",
       "  </thead>\n",
       "  <tbody>\n",
       "    <tr>\n",
       "      <th>0</th>\n",
       "      <td>How AWS WAF saved us</td>\n",
       "      <td>Benefits of AWS WAF and how it helped us work ...</td>\n",
       "      <td>https://medium.com/swlh/how-aws-waf-saved-us-6...</td>\n",
       "      <td>455</td>\n",
       "      <td>8</td>\n",
       "      <td>4</td>\n",
       "    </tr>\n",
       "    <tr>\n",
       "      <th>1</th>\n",
       "      <td>Developing with Deno: Rest API</td>\n",
       "      <td></td>\n",
       "      <td>https://medium.com/swlh/developing-with-deno-r...</td>\n",
       "      <td>170</td>\n",
       "      <td>5</td>\n",
       "      <td>1</td>\n",
       "    </tr>\n",
       "    <tr>\n",
       "      <th>2</th>\n",
       "      <td>Input-Output Metric Framework for Product Mana...</td>\n",
       "      <td></td>\n",
       "      <td>https://medium.com/swlh/input-output-metric-fr...</td>\n",
       "      <td>217</td>\n",
       "      <td>6</td>\n",
       "      <td>1</td>\n",
       "    </tr>\n",
       "    <tr>\n",
       "      <th>3</th>\n",
       "      <td>Retiring My Old Mac, I Look At The Surface Lin...</td>\n",
       "      <td>Maybe Microsoft is where it’s at now…</td>\n",
       "      <td>https://medium.com/swlh/retiring-my-old-mac-i-...</td>\n",
       "      <td>128</td>\n",
       "      <td>7</td>\n",
       "      <td>7</td>\n",
       "    </tr>\n",
       "    <tr>\n",
       "      <th>4</th>\n",
       "      <td>Is a Cannabis ETF The Best Play For 2020?</td>\n",
       "      <td></td>\n",
       "      <td>https://medium.com/swlh/is-a-cannabis-etf-the-...</td>\n",
       "      <td>226</td>\n",
       "      <td>9</td>\n",
       "      <td>0</td>\n",
       "    </tr>\n",
       "    <tr>\n",
       "      <th>...</th>\n",
       "      <td>...</td>\n",
       "      <td>...</td>\n",
       "      <td>...</td>\n",
       "      <td>...</td>\n",
       "      <td>...</td>\n",
       "      <td>...</td>\n",
       "    </tr>\n",
       "    <tr>\n",
       "      <th>99</th>\n",
       "      <td>Playing with Virtual Time</td>\n",
       "      <td></td>\n",
       "      <td>https://medium.com/swlh/playing-with-virtual-t...</td>\n",
       "      <td>50</td>\n",
       "      <td>4</td>\n",
       "      <td>0</td>\n",
       "    </tr>\n",
       "    <tr>\n",
       "      <th>100</th>\n",
       "      <td>Build a Culture Primed to Innovate</td>\n",
       "      <td>The Most Important Factor Might Not Be What Yo...</td>\n",
       "      <td>https://medium.com/swlh/build-a-culture-primed...</td>\n",
       "      <td>166</td>\n",
       "      <td>4</td>\n",
       "      <td>1</td>\n",
       "    </tr>\n",
       "    <tr>\n",
       "      <th>101</th>\n",
       "      <td>Migrating from Relay to Apollo in create-react...</td>\n",
       "      <td>Hi, there! Here’s a stepwise guide to those wh...</td>\n",
       "      <td>https://medium.com/swlh/migrating-from-relay-t...</td>\n",
       "      <td>51</td>\n",
       "      <td>3</td>\n",
       "      <td>0</td>\n",
       "    </tr>\n",
       "    <tr>\n",
       "      <th>102</th>\n",
       "      <td>Unique Aspects of Terminating H-1B Employees</td>\n",
       "      <td>With the unfortunate reality of layoffs it is ...</td>\n",
       "      <td>https://medium.com/swlh/unique-aspects-of-term...</td>\n",
       "      <td>53</td>\n",
       "      <td>3</td>\n",
       "      <td>0</td>\n",
       "    </tr>\n",
       "    <tr>\n",
       "      <th>103</th>\n",
       "      <td>Node.js — Working with Web Servers and Web Fra...</td>\n",
       "      <td></td>\n",
       "      <td>https://medium.com/swlh/node-js-working-with-w...</td>\n",
       "      <td>0</td>\n",
       "      <td>6</td>\n",
       "      <td>0</td>\n",
       "    </tr>\n",
       "  </tbody>\n",
       "</table>\n",
       "<p>104 rows × 6 columns</p>\n",
       "</div>"
      ],
      "text/plain": [
       "                                                 Title  \\\n",
       "0                                 How AWS WAF saved us   \n",
       "1                       Developing with Deno: Rest API   \n",
       "2    Input-Output Metric Framework for Product Mana...   \n",
       "3    Retiring My Old Mac, I Look At The Surface Lin...   \n",
       "4            Is a Cannabis ETF The Best Play For 2020?   \n",
       "..                                                 ...   \n",
       "99                           Playing with Virtual Time   \n",
       "100                 Build a Culture Primed to Innovate   \n",
       "101  Migrating from Relay to Apollo in create-react...   \n",
       "102       Unique Aspects of Terminating H-1B Employees   \n",
       "103  Node.js — Working with Web Servers and Web Fra...   \n",
       "\n",
       "                                              SubTitle  \\\n",
       "0    Benefits of AWS WAF and how it helped us work ...   \n",
       "1                                                        \n",
       "2                                                        \n",
       "3                Maybe Microsoft is where it’s at now…   \n",
       "4                                                        \n",
       "..                                                 ...   \n",
       "99                                                       \n",
       "100  The Most Important Factor Might Not Be What Yo...   \n",
       "101  Hi, there! Here’s a stepwise guide to those wh...   \n",
       "102  With the unfortunate reality of layoffs it is ...   \n",
       "103                                                      \n",
       "\n",
       "                                                  Link  Claps  Reading_Time  \\\n",
       "0    https://medium.com/swlh/how-aws-waf-saved-us-6...    455             8   \n",
       "1    https://medium.com/swlh/developing-with-deno-r...    170             5   \n",
       "2    https://medium.com/swlh/input-output-metric-fr...    217             6   \n",
       "3    https://medium.com/swlh/retiring-my-old-mac-i-...    128             7   \n",
       "4    https://medium.com/swlh/is-a-cannabis-etf-the-...    226             9   \n",
       "..                                                 ...    ...           ...   \n",
       "99   https://medium.com/swlh/playing-with-virtual-t...     50             4   \n",
       "100  https://medium.com/swlh/build-a-culture-primed...    166             4   \n",
       "101  https://medium.com/swlh/migrating-from-relay-t...     51             3   \n",
       "102  https://medium.com/swlh/unique-aspects-of-term...     53             3   \n",
       "103  https://medium.com/swlh/node-js-working-with-w...      0             6   \n",
       "\n",
       "    Responses  \n",
       "0           4  \n",
       "1           1  \n",
       "2           1  \n",
       "3           7  \n",
       "4           0  \n",
       "..        ...  \n",
       "99          0  \n",
       "100         1  \n",
       "101         0  \n",
       "102         0  \n",
       "103         0  \n",
       "\n",
       "[104 rows x 6 columns]"
      ]
     },
     "execution_count": 261,
     "metadata": {},
     "output_type": "execute_result"
    }
   ],
   "source": [
    "pd.DataFrame(zip(titles, sub_titles, article_link, claps, reading_time, responses), columns=columns)"
   ]
  },
  {
   "cell_type": "markdown",
   "metadata": {},
   "source": [
    "### Actual Extraction"
   ]
  },
  {
   "cell_type": "markdown",
   "metadata": {},
   "source": [
    "#### P.S: Ignore the error here! Actually I did a mistake while parsing dates and had to stop inbetween which led to dates mismatch and data was partially collected. Now 38 Random dates data is available which makes 4066 articles data"
   ]
  },
  {
   "cell_type": "code",
   "execution_count": 350,
   "metadata": {},
   "outputs": [
    {
     "ename": "KeyError",
     "evalue": "0",
     "output_type": "error",
     "traceback": [
      "\u001b[1;31m---------------------------------------------------------------------------\u001b[0m",
      "\u001b[1;31mKeyError\u001b[0m                                  Traceback (most recent call last)",
      "\u001b[1;32m<ipython-input-350-95566497c8d7>\u001b[0m in \u001b[0;36m<module>\u001b[1;34m\u001b[0m\n\u001b[0;32m      8\u001b[0m \u001b[0mpubs\u001b[0m \u001b[1;33m=\u001b[0m \u001b[1;33m[\u001b[0m\u001b[1;33m]\u001b[0m\u001b[1;33m\u001b[0m\u001b[1;33m\u001b[0m\u001b[0m\n\u001b[0;32m      9\u001b[0m \u001b[1;32mfor\u001b[0m \u001b[0mi\u001b[0m \u001b[1;32min\u001b[0m \u001b[0mrange\u001b[0m\u001b[1;33m(\u001b[0m\u001b[0mlen\u001b[0m\u001b[1;33m(\u001b[0m\u001b[0mdates\u001b[0m\u001b[1;33m)\u001b[0m\u001b[1;33m)\u001b[0m\u001b[1;33m:\u001b[0m\u001b[1;33m\u001b[0m\u001b[1;33m\u001b[0m\u001b[0m\n\u001b[1;32m---> 10\u001b[1;33m     \u001b[0mmonth\u001b[0m \u001b[1;33m=\u001b[0m \u001b[0mdates\u001b[0m\u001b[1;33m.\u001b[0m\u001b[0mdt\u001b[0m\u001b[1;33m.\u001b[0m\u001b[0mmonth\u001b[0m\u001b[1;33m[\u001b[0m\u001b[0mi\u001b[0m\u001b[1;33m]\u001b[0m\u001b[1;33m\u001b[0m\u001b[1;33m\u001b[0m\u001b[0m\n\u001b[0m\u001b[0;32m     11\u001b[0m     \u001b[0mday\u001b[0m \u001b[1;33m=\u001b[0m \u001b[0mdates\u001b[0m\u001b[1;33m.\u001b[0m\u001b[0mdt\u001b[0m\u001b[1;33m.\u001b[0m\u001b[0mday\u001b[0m\u001b[1;33m[\u001b[0m\u001b[0mi\u001b[0m\u001b[1;33m]\u001b[0m\u001b[1;33m\u001b[0m\u001b[1;33m\u001b[0m\u001b[0m\n\u001b[0;32m     12\u001b[0m     \u001b[1;32mfor\u001b[0m \u001b[0mpublication\u001b[0m\u001b[1;33m,\u001b[0m \u001b[0murl\u001b[0m \u001b[1;32min\u001b[0m \u001b[0murls\u001b[0m\u001b[1;33m.\u001b[0m\u001b[0mitems\u001b[0m\u001b[1;33m(\u001b[0m\u001b[1;33m)\u001b[0m\u001b[1;33m:\u001b[0m\u001b[1;33m\u001b[0m\u001b[1;33m\u001b[0m\u001b[0m\n",
      "\u001b[1;32m~\\anaconda3\\lib\\site-packages\\pandas\\core\\series.py\u001b[0m in \u001b[0;36m__getitem__\u001b[1;34m(self, key)\u001b[0m\n\u001b[0;32m    869\u001b[0m         \u001b[0mkey\u001b[0m \u001b[1;33m=\u001b[0m \u001b[0mcom\u001b[0m\u001b[1;33m.\u001b[0m\u001b[0mapply_if_callable\u001b[0m\u001b[1;33m(\u001b[0m\u001b[0mkey\u001b[0m\u001b[1;33m,\u001b[0m \u001b[0mself\u001b[0m\u001b[1;33m)\u001b[0m\u001b[1;33m\u001b[0m\u001b[1;33m\u001b[0m\u001b[0m\n\u001b[0;32m    870\u001b[0m         \u001b[1;32mtry\u001b[0m\u001b[1;33m:\u001b[0m\u001b[1;33m\u001b[0m\u001b[1;33m\u001b[0m\u001b[0m\n\u001b[1;32m--> 871\u001b[1;33m             \u001b[0mresult\u001b[0m \u001b[1;33m=\u001b[0m \u001b[0mself\u001b[0m\u001b[1;33m.\u001b[0m\u001b[0mindex\u001b[0m\u001b[1;33m.\u001b[0m\u001b[0mget_value\u001b[0m\u001b[1;33m(\u001b[0m\u001b[0mself\u001b[0m\u001b[1;33m,\u001b[0m \u001b[0mkey\u001b[0m\u001b[1;33m)\u001b[0m\u001b[1;33m\u001b[0m\u001b[1;33m\u001b[0m\u001b[0m\n\u001b[0m\u001b[0;32m    872\u001b[0m \u001b[1;33m\u001b[0m\u001b[0m\n\u001b[0;32m    873\u001b[0m             \u001b[1;32mif\u001b[0m \u001b[1;32mnot\u001b[0m \u001b[0mis_scalar\u001b[0m\u001b[1;33m(\u001b[0m\u001b[0mresult\u001b[0m\u001b[1;33m)\u001b[0m\u001b[1;33m:\u001b[0m\u001b[1;33m\u001b[0m\u001b[1;33m\u001b[0m\u001b[0m\n",
      "\u001b[1;32m~\\anaconda3\\lib\\site-packages\\pandas\\core\\indexes\\base.py\u001b[0m in \u001b[0;36mget_value\u001b[1;34m(self, series, key)\u001b[0m\n\u001b[0;32m   4403\u001b[0m         \u001b[0mk\u001b[0m \u001b[1;33m=\u001b[0m \u001b[0mself\u001b[0m\u001b[1;33m.\u001b[0m\u001b[0m_convert_scalar_indexer\u001b[0m\u001b[1;33m(\u001b[0m\u001b[0mk\u001b[0m\u001b[1;33m,\u001b[0m \u001b[0mkind\u001b[0m\u001b[1;33m=\u001b[0m\u001b[1;34m\"getitem\"\u001b[0m\u001b[1;33m)\u001b[0m\u001b[1;33m\u001b[0m\u001b[1;33m\u001b[0m\u001b[0m\n\u001b[0;32m   4404\u001b[0m         \u001b[1;32mtry\u001b[0m\u001b[1;33m:\u001b[0m\u001b[1;33m\u001b[0m\u001b[1;33m\u001b[0m\u001b[0m\n\u001b[1;32m-> 4405\u001b[1;33m             \u001b[1;32mreturn\u001b[0m \u001b[0mself\u001b[0m\u001b[1;33m.\u001b[0m\u001b[0m_engine\u001b[0m\u001b[1;33m.\u001b[0m\u001b[0mget_value\u001b[0m\u001b[1;33m(\u001b[0m\u001b[0ms\u001b[0m\u001b[1;33m,\u001b[0m \u001b[0mk\u001b[0m\u001b[1;33m,\u001b[0m \u001b[0mtz\u001b[0m\u001b[1;33m=\u001b[0m\u001b[0mgetattr\u001b[0m\u001b[1;33m(\u001b[0m\u001b[0mseries\u001b[0m\u001b[1;33m.\u001b[0m\u001b[0mdtype\u001b[0m\u001b[1;33m,\u001b[0m \u001b[1;34m\"tz\"\u001b[0m\u001b[1;33m,\u001b[0m \u001b[1;32mNone\u001b[0m\u001b[1;33m)\u001b[0m\u001b[1;33m)\u001b[0m\u001b[1;33m\u001b[0m\u001b[1;33m\u001b[0m\u001b[0m\n\u001b[0m\u001b[0;32m   4406\u001b[0m         \u001b[1;32mexcept\u001b[0m \u001b[0mKeyError\u001b[0m \u001b[1;32mas\u001b[0m \u001b[0me1\u001b[0m\u001b[1;33m:\u001b[0m\u001b[1;33m\u001b[0m\u001b[1;33m\u001b[0m\u001b[0m\n\u001b[0;32m   4407\u001b[0m             \u001b[1;32mif\u001b[0m \u001b[0mlen\u001b[0m\u001b[1;33m(\u001b[0m\u001b[0mself\u001b[0m\u001b[1;33m)\u001b[0m \u001b[1;33m>\u001b[0m \u001b[1;36m0\u001b[0m \u001b[1;32mand\u001b[0m \u001b[1;33m(\u001b[0m\u001b[0mself\u001b[0m\u001b[1;33m.\u001b[0m\u001b[0mholds_integer\u001b[0m\u001b[1;33m(\u001b[0m\u001b[1;33m)\u001b[0m \u001b[1;32mor\u001b[0m \u001b[0mself\u001b[0m\u001b[1;33m.\u001b[0m\u001b[0mis_boolean\u001b[0m\u001b[1;33m(\u001b[0m\u001b[1;33m)\u001b[0m\u001b[1;33m)\u001b[0m\u001b[1;33m:\u001b[0m\u001b[1;33m\u001b[0m\u001b[1;33m\u001b[0m\u001b[0m\n",
      "\u001b[1;32mpandas\\_libs\\index.pyx\u001b[0m in \u001b[0;36mpandas._libs.index.IndexEngine.get_value\u001b[1;34m()\u001b[0m\n",
      "\u001b[1;32mpandas\\_libs\\index.pyx\u001b[0m in \u001b[0;36mpandas._libs.index.IndexEngine.get_value\u001b[1;34m()\u001b[0m\n",
      "\u001b[1;32mpandas\\_libs\\index.pyx\u001b[0m in \u001b[0;36mpandas._libs.index.IndexEngine.get_loc\u001b[1;34m()\u001b[0m\n",
      "\u001b[1;32mpandas\\_libs\\hashtable_class_helper.pxi\u001b[0m in \u001b[0;36mpandas._libs.hashtable.Int64HashTable.get_item\u001b[1;34m()\u001b[0m\n",
      "\u001b[1;32mpandas\\_libs\\hashtable_class_helper.pxi\u001b[0m in \u001b[0;36mpandas._libs.hashtable.Int64HashTable.get_item\u001b[1;34m()\u001b[0m\n",
      "\u001b[1;31mKeyError\u001b[0m: 0"
     ]
    }
   ],
   "source": [
    "year = 2020\n",
    "titles = []\n",
    "sub_titles = []\n",
    "article_link = []\n",
    "claps = []\n",
    "reading_time = []\n",
    "responses = []\n",
    "pubs = []\n",
    "for i in range(len(dates)):\n",
    "    month = dates.dt.month[i]\n",
    "    day = dates.dt.day[i]\n",
    "    for publication, url in urls.items():\n",
    "        response = requests.get(url.format(year, month, day), allow_redirects=True)\n",
    "        if not response.url.startswith(url.format(year, month, day)):\n",
    "            continue\n",
    "        page = response.content\n",
    "        soup = BeautifulSoup(page, 'html.parser')\n",
    "        articles = soup.find_all(\"div\", class_=\"postArticle postArticle--short js-postArticle js-trackPostPresentation js-trackPostScrolls\")\n",
    "        \n",
    "        number = len([i.find('h3',class_=\"graf--title\" ).text if i.find('h3',class_=\"graf--title\" ) is not None else '' for i in articles])\n",
    "        \n",
    "        titles.append([i.find('h3',class_=\"graf--title\" ).text if i.find('h3',class_=\"graf--title\" ) is not None else '' for i in articles])\n",
    "\n",
    "        sub_titles.append([i.find(\"h4\", class_=\"graf--subtitle\").text if i.find(\"h4\", class_=\"graf--subtitle\") is not None else '' for i in articles])\n",
    "\n",
    "        article_link.append([i.find_all('a')[3]['href'].split('?')[0] for i in articles])\n",
    "\n",
    "        claps.append([0 if (k is None) or (k == '') or (k.split is None) else int(float(k.split('K')[0])*1000) if len(k.split('K'))==2 else int(float(k.split('K')[0])) for k in [j.text for j in [i.find_all('button')[1] for i in articles]]])\n",
    "\n",
    "        reading_time.append([int(i.find(\"span\", class_=\"readingTime\")['title'].split()[0]) if i.find(\"span\", class_=\"readingTime\") is not None else 0 for i in articles])\n",
    "\n",
    "        responses.append([i.find_all('a')[6].text.split(' ')[0] if (len(i.find_all('a'))==7) and len(i.find_all('a')[6].text.split(' '))!=0 else 0 for i in articles])\n",
    "        \n",
    "        pubs.append([publication]*number)\n",
    "        \n",
    "        time.sleep(1)"
   ]
  },
  {
   "cell_type": "code",
   "execution_count": 339,
   "metadata": {},
   "outputs": [],
   "source": [
    "columns = ['Title', 'SubTitle', 'Link', 'Claps', 'Reading_Time', 'Responses', 'Publication']"
   ]
  },
  {
   "cell_type": "code",
   "execution_count": 340,
   "metadata": {},
   "outputs": [],
   "source": [
    "titles = list(itertools.chain.from_iterable(titles))\n",
    "sub_titles = list(itertools.chain.from_iterable(sub_titles))\n",
    "article_link = list(itertools.chain.from_iterable(article_link))\n",
    "claps = list(itertools.chain.from_iterable(claps))\n",
    "reading_time = list(itertools.chain.from_iterable(reading_time))\n",
    "responses = list(itertools.chain.from_iterable(responses))\n",
    "pubs = list(itertools.chain.from_iterable(pubs))"
   ]
  },
  {
   "cell_type": "code",
   "execution_count": 359,
   "metadata": {},
   "outputs": [],
   "source": [
    "pd.DataFrame(zip(titles, sub_titles, article_link, claps, reading_time, responses, pubs), columns=columns).to_csv('Part1.csv')"
   ]
  },
  {
   "cell_type": "code",
   "execution_count": 362,
   "metadata": {},
   "outputs": [],
   "source": [
    "df = pd.read_csv('Part1.csv')"
   ]
  },
  {
   "cell_type": "code",
   "execution_count": 364,
   "metadata": {},
   "outputs": [
    {
     "name": "stdout",
     "output_type": "stream",
     "text": [
      "<class 'pandas.core.frame.DataFrame'>\n",
      "RangeIndex: 4065 entries, 0 to 4064\n",
      "Data columns (total 8 columns):\n",
      " #   Column        Non-Null Count  Dtype \n",
      "---  ------        --------------  ----- \n",
      " 0   Unnamed: 0    4065 non-null   int64 \n",
      " 1   Title         4059 non-null   object\n",
      " 2   SubTitle      2604 non-null   object\n",
      " 3   Link          4065 non-null   object\n",
      " 4   Claps         4065 non-null   int64 \n",
      " 5   Reading_Time  4065 non-null   int64 \n",
      " 6   Responses     4065 non-null   int64 \n",
      " 7   Publication   4065 non-null   object\n",
      "dtypes: int64(4), object(4)\n",
      "memory usage: 254.2+ KB\n"
     ]
    }
   ],
   "source": [
    "df.info()"
   ]
  },
  {
   "cell_type": "code",
   "execution_count": null,
   "metadata": {},
   "outputs": [],
   "source": []
  }
 ],
 "metadata": {
  "kernelspec": {
   "display_name": "Python 3",
   "language": "python",
   "name": "python3"
  },
  "language_info": {
   "codemirror_mode": {
    "name": "ipython",
    "version": 3
   },
   "file_extension": ".py",
   "mimetype": "text/x-python",
   "name": "python",
   "nbconvert_exporter": "python",
   "pygments_lexer": "ipython3",
   "version": "3.7.6"
  }
 },
 "nbformat": 4,
 "nbformat_minor": 4
}
