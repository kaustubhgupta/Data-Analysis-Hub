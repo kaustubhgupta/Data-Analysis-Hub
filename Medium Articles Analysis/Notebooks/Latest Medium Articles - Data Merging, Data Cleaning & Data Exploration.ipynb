{
 "cells": [
  {
   "cell_type": "code",
   "execution_count": 75,
   "metadata": {},
   "outputs": [],
   "source": [
    "import pandas as pd\n",
    "import numpy as np\n",
    "import unicodedata"
   ]
  },
  {
   "cell_type": "markdown",
   "metadata": {},
   "source": [
    "# Data Merging"
   ]
  },
  {
   "cell_type": "code",
   "execution_count": 38,
   "metadata": {},
   "outputs": [],
   "source": [
    "df1 = pd.read_csv('Part1.csv')\n",
    "df2 = pd.read_csv('Part2.csv')"
   ]
  },
  {
   "cell_type": "code",
   "execution_count": 39,
   "metadata": {},
   "outputs": [
    {
     "data": {
      "text/html": [
       "<div>\n",
       "<style scoped>\n",
       "    .dataframe tbody tr th:only-of-type {\n",
       "        vertical-align: middle;\n",
       "    }\n",
       "\n",
       "    .dataframe tbody tr th {\n",
       "        vertical-align: top;\n",
       "    }\n",
       "\n",
       "    .dataframe thead th {\n",
       "        text-align: right;\n",
       "    }\n",
       "</style>\n",
       "<table border=\"1\" class=\"dataframe\">\n",
       "  <thead>\n",
       "    <tr style=\"text-align: right;\">\n",
       "      <th></th>\n",
       "      <th>Unnamed: 0</th>\n",
       "      <th>Title</th>\n",
       "      <th>SubTitle</th>\n",
       "      <th>Link</th>\n",
       "      <th>Claps</th>\n",
       "      <th>Reading_Time</th>\n",
       "      <th>Responses</th>\n",
       "      <th>Publication</th>\n",
       "    </tr>\n",
       "  </thead>\n",
       "  <tbody>\n",
       "    <tr>\n",
       "      <th>0</th>\n",
       "      <td>0</td>\n",
       "      <td>The Reported Mortality Rate of Coronavirus Is ...</td>\n",
       "      <td>Why the “mortality rate” of the Wuhan coronavi...</td>\n",
       "      <td>https://medium.com/swlh/the-reported-mortality...</td>\n",
       "      <td>1100</td>\n",
       "      <td>13</td>\n",
       "      <td>18</td>\n",
       "      <td>The Startup</td>\n",
       "    </tr>\n",
       "    <tr>\n",
       "      <th>1</th>\n",
       "      <td>1</td>\n",
       "      <td>Dashboards in Python: 3 Advanced Examples for ...</td>\n",
       "      <td>Code a Python…</td>\n",
       "      <td>https://medium.com/swlh/dashboards-in-python-3...</td>\n",
       "      <td>726</td>\n",
       "      <td>14</td>\n",
       "      <td>3</td>\n",
       "      <td>The Startup</td>\n",
       "    </tr>\n",
       "    <tr>\n",
       "      <th>2</th>\n",
       "      <td>2</td>\n",
       "      <td>How Can We Best Switch in Python?</td>\n",
       "      <td>Are you tired of writing too many if…elif…else...</td>\n",
       "      <td>https://medium.com/swlh/how-can-we-best-switch...</td>\n",
       "      <td>500</td>\n",
       "      <td>6</td>\n",
       "      <td>7</td>\n",
       "      <td>The Startup</td>\n",
       "    </tr>\n",
       "    <tr>\n",
       "      <th>3</th>\n",
       "      <td>3</td>\n",
       "      <td>Maternity leave shouldn’t set women back</td>\n",
       "      <td>NaN</td>\n",
       "      <td>https://medium.com/swlh/maternity-leave-should...</td>\n",
       "      <td>460</td>\n",
       "      <td>9</td>\n",
       "      <td>1</td>\n",
       "      <td>The Startup</td>\n",
       "    </tr>\n",
       "    <tr>\n",
       "      <th>4</th>\n",
       "      <td>4</td>\n",
       "      <td>Python NLP Tutorial: Information Extraction an...</td>\n",
       "      <td>NaN</td>\n",
       "      <td>https://medium.com/swlh/python-nlp-tutorial-in...</td>\n",
       "      <td>163</td>\n",
       "      <td>7</td>\n",
       "      <td>0</td>\n",
       "      <td>The Startup</td>\n",
       "    </tr>\n",
       "  </tbody>\n",
       "</table>\n",
       "</div>"
      ],
      "text/plain": [
       "   Unnamed: 0                                              Title  \\\n",
       "0           0  The Reported Mortality Rate of Coronavirus Is ...   \n",
       "1           1  Dashboards in Python: 3 Advanced Examples for ...   \n",
       "2           2                  How Can We Best Switch in Python?   \n",
       "3           3           Maternity leave shouldn’t set women back   \n",
       "4           4  Python NLP Tutorial: Information Extraction an...   \n",
       "\n",
       "                                            SubTitle  \\\n",
       "0  Why the “mortality rate” of the Wuhan coronavi...   \n",
       "1                                     Code a Python…   \n",
       "2  Are you tired of writing too many if…elif…else...   \n",
       "3                                                NaN   \n",
       "4                                                NaN   \n",
       "\n",
       "                                                Link  Claps  Reading_Time  \\\n",
       "0  https://medium.com/swlh/the-reported-mortality...   1100            13   \n",
       "1  https://medium.com/swlh/dashboards-in-python-3...    726            14   \n",
       "2  https://medium.com/swlh/how-can-we-best-switch...    500             6   \n",
       "3  https://medium.com/swlh/maternity-leave-should...    460             9   \n",
       "4  https://medium.com/swlh/python-nlp-tutorial-in...    163             7   \n",
       "\n",
       "   Responses  Publication  \n",
       "0         18  The Startup  \n",
       "1          3  The Startup  \n",
       "2          7  The Startup  \n",
       "3          1  The Startup  \n",
       "4          0  The Startup  "
      ]
     },
     "execution_count": 39,
     "metadata": {},
     "output_type": "execute_result"
    }
   ],
   "source": [
    "df1.head()"
   ]
  },
  {
   "cell_type": "code",
   "execution_count": 40,
   "metadata": {},
   "outputs": [
    {
     "data": {
      "text/html": [
       "<div>\n",
       "<style scoped>\n",
       "    .dataframe tbody tr th:only-of-type {\n",
       "        vertical-align: middle;\n",
       "    }\n",
       "\n",
       "    .dataframe tbody tr th {\n",
       "        vertical-align: top;\n",
       "    }\n",
       "\n",
       "    .dataframe thead th {\n",
       "        text-align: right;\n",
       "    }\n",
       "</style>\n",
       "<table border=\"1\" class=\"dataframe\">\n",
       "  <thead>\n",
       "    <tr style=\"text-align: right;\">\n",
       "      <th></th>\n",
       "      <th>Unnamed: 0</th>\n",
       "      <th>Title</th>\n",
       "      <th>SubTitle</th>\n",
       "      <th>Link</th>\n",
       "      <th>Claps</th>\n",
       "      <th>Reading_Time</th>\n",
       "      <th>Responses</th>\n",
       "      <th>Publication</th>\n",
       "    </tr>\n",
       "  </thead>\n",
       "  <tbody>\n",
       "    <tr>\n",
       "      <th>0</th>\n",
       "      <td>0</td>\n",
       "      <td>Apache Kafka Startup Guide: System Design Arch...</td>\n",
       "      <td>NaN</td>\n",
       "      <td>https://medium.com/swlh/apache-kafka-startup-g...</td>\n",
       "      <td>681</td>\n",
       "      <td>9</td>\n",
       "      <td>3</td>\n",
       "      <td>The Startup</td>\n",
       "    </tr>\n",
       "    <tr>\n",
       "      <th>1</th>\n",
       "      <td>1</td>\n",
       "      <td>How I Stopped Losing Money in Trading</td>\n",
       "      <td>Ten common trading mistakes and ways to avoid ...</td>\n",
       "      <td>https://medium.com/swlh/how-i-stopped-losing-m...</td>\n",
       "      <td>1000</td>\n",
       "      <td>4</td>\n",
       "      <td>11</td>\n",
       "      <td>The Startup</td>\n",
       "    </tr>\n",
       "    <tr>\n",
       "      <th>2</th>\n",
       "      <td>2</td>\n",
       "      <td>Writing a GUI Application with Python and Py2App</td>\n",
       "      <td>NaN</td>\n",
       "      <td>https://medium.com/swlh/writing-a-gui-applicat...</td>\n",
       "      <td>412</td>\n",
       "      <td>9</td>\n",
       "      <td>2</td>\n",
       "      <td>The Startup</td>\n",
       "    </tr>\n",
       "    <tr>\n",
       "      <th>3</th>\n",
       "      <td>3</td>\n",
       "      <td>My journey to becoming a GSoC ’20 Student</td>\n",
       "      <td>How I got an opportunity to intern under one o...</td>\n",
       "      <td>https://medium.com/swlh/my-journey-to-becoming...</td>\n",
       "      <td>283</td>\n",
       "      <td>14</td>\n",
       "      <td>1</td>\n",
       "      <td>The Startup</td>\n",
       "    </tr>\n",
       "    <tr>\n",
       "      <th>4</th>\n",
       "      <td>4</td>\n",
       "      <td>Nikola Motor Company (NKLA), or How to build a...</td>\n",
       "      <td>NaN</td>\n",
       "      <td>https://medium.com/swlh/nikola-motor-company-n...</td>\n",
       "      <td>320</td>\n",
       "      <td>6</td>\n",
       "      <td>3</td>\n",
       "      <td>The Startup</td>\n",
       "    </tr>\n",
       "  </tbody>\n",
       "</table>\n",
       "</div>"
      ],
      "text/plain": [
       "   Unnamed: 0                                              Title  \\\n",
       "0           0  Apache Kafka Startup Guide: System Design Arch...   \n",
       "1           1              How I Stopped Losing Money in Trading   \n",
       "2           2   Writing a GUI Application with Python and Py2App   \n",
       "3           3          My journey to becoming a GSoC ’20 Student   \n",
       "4           4  Nikola Motor Company (NKLA), or How to build a...   \n",
       "\n",
       "                                            SubTitle  \\\n",
       "0                                                NaN   \n",
       "1  Ten common trading mistakes and ways to avoid ...   \n",
       "2                                                NaN   \n",
       "3  How I got an opportunity to intern under one o...   \n",
       "4                                                NaN   \n",
       "\n",
       "                                                Link  Claps  Reading_Time  \\\n",
       "0  https://medium.com/swlh/apache-kafka-startup-g...    681             9   \n",
       "1  https://medium.com/swlh/how-i-stopped-losing-m...   1000             4   \n",
       "2  https://medium.com/swlh/writing-a-gui-applicat...    412             9   \n",
       "3  https://medium.com/swlh/my-journey-to-becoming...    283            14   \n",
       "4  https://medium.com/swlh/nikola-motor-company-n...    320             6   \n",
       "\n",
       "   Responses  Publication  \n",
       "0          3  The Startup  \n",
       "1         11  The Startup  \n",
       "2          2  The Startup  \n",
       "3          1  The Startup  \n",
       "4          3  The Startup  "
      ]
     },
     "execution_count": 40,
     "metadata": {},
     "output_type": "execute_result"
    }
   ],
   "source": [
    "df2.head()"
   ]
  },
  {
   "cell_type": "code",
   "execution_count": 41,
   "metadata": {},
   "outputs": [],
   "source": [
    "df = pd.concat([df1, df2], ignore_index=True)"
   ]
  },
  {
   "cell_type": "code",
   "execution_count": 42,
   "metadata": {},
   "outputs": [
    {
     "data": {
      "text/html": [
       "<div>\n",
       "<style scoped>\n",
       "    .dataframe tbody tr th:only-of-type {\n",
       "        vertical-align: middle;\n",
       "    }\n",
       "\n",
       "    .dataframe tbody tr th {\n",
       "        vertical-align: top;\n",
       "    }\n",
       "\n",
       "    .dataframe thead th {\n",
       "        text-align: right;\n",
       "    }\n",
       "</style>\n",
       "<table border=\"1\" class=\"dataframe\">\n",
       "  <thead>\n",
       "    <tr style=\"text-align: right;\">\n",
       "      <th></th>\n",
       "      <th>Unnamed: 0</th>\n",
       "      <th>Title</th>\n",
       "      <th>SubTitle</th>\n",
       "      <th>Link</th>\n",
       "      <th>Claps</th>\n",
       "      <th>Reading_Time</th>\n",
       "      <th>Responses</th>\n",
       "      <th>Publication</th>\n",
       "    </tr>\n",
       "  </thead>\n",
       "  <tbody>\n",
       "    <tr>\n",
       "      <th>0</th>\n",
       "      <td>0</td>\n",
       "      <td>The Reported Mortality Rate of Coronavirus Is ...</td>\n",
       "      <td>Why the “mortality rate” of the Wuhan coronavi...</td>\n",
       "      <td>https://medium.com/swlh/the-reported-mortality...</td>\n",
       "      <td>1100</td>\n",
       "      <td>13</td>\n",
       "      <td>18</td>\n",
       "      <td>The Startup</td>\n",
       "    </tr>\n",
       "    <tr>\n",
       "      <th>1</th>\n",
       "      <td>1</td>\n",
       "      <td>Dashboards in Python: 3 Advanced Examples for ...</td>\n",
       "      <td>Code a Python…</td>\n",
       "      <td>https://medium.com/swlh/dashboards-in-python-3...</td>\n",
       "      <td>726</td>\n",
       "      <td>14</td>\n",
       "      <td>3</td>\n",
       "      <td>The Startup</td>\n",
       "    </tr>\n",
       "    <tr>\n",
       "      <th>2</th>\n",
       "      <td>2</td>\n",
       "      <td>How Can We Best Switch in Python?</td>\n",
       "      <td>Are you tired of writing too many if…elif…else...</td>\n",
       "      <td>https://medium.com/swlh/how-can-we-best-switch...</td>\n",
       "      <td>500</td>\n",
       "      <td>6</td>\n",
       "      <td>7</td>\n",
       "      <td>The Startup</td>\n",
       "    </tr>\n",
       "    <tr>\n",
       "      <th>3</th>\n",
       "      <td>3</td>\n",
       "      <td>Maternity leave shouldn’t set women back</td>\n",
       "      <td>NaN</td>\n",
       "      <td>https://medium.com/swlh/maternity-leave-should...</td>\n",
       "      <td>460</td>\n",
       "      <td>9</td>\n",
       "      <td>1</td>\n",
       "      <td>The Startup</td>\n",
       "    </tr>\n",
       "    <tr>\n",
       "      <th>4</th>\n",
       "      <td>4</td>\n",
       "      <td>Python NLP Tutorial: Information Extraction an...</td>\n",
       "      <td>NaN</td>\n",
       "      <td>https://medium.com/swlh/python-nlp-tutorial-in...</td>\n",
       "      <td>163</td>\n",
       "      <td>7</td>\n",
       "      <td>0</td>\n",
       "      <td>The Startup</td>\n",
       "    </tr>\n",
       "  </tbody>\n",
       "</table>\n",
       "</div>"
      ],
      "text/plain": [
       "   Unnamed: 0                                              Title  \\\n",
       "0           0  The Reported Mortality Rate of Coronavirus Is ...   \n",
       "1           1  Dashboards in Python: 3 Advanced Examples for ...   \n",
       "2           2                  How Can We Best Switch in Python?   \n",
       "3           3           Maternity leave shouldn’t set women back   \n",
       "4           4  Python NLP Tutorial: Information Extraction an...   \n",
       "\n",
       "                                            SubTitle  \\\n",
       "0  Why the “mortality rate” of the Wuhan coronavi...   \n",
       "1                                     Code a Python…   \n",
       "2  Are you tired of writing too many if…elif…else...   \n",
       "3                                                NaN   \n",
       "4                                                NaN   \n",
       "\n",
       "                                                Link  Claps  Reading_Time  \\\n",
       "0  https://medium.com/swlh/the-reported-mortality...   1100            13   \n",
       "1  https://medium.com/swlh/dashboards-in-python-3...    726            14   \n",
       "2  https://medium.com/swlh/how-can-we-best-switch...    500             6   \n",
       "3  https://medium.com/swlh/maternity-leave-should...    460             9   \n",
       "4  https://medium.com/swlh/python-nlp-tutorial-in...    163             7   \n",
       "\n",
       "   Responses  Publication  \n",
       "0         18  The Startup  \n",
       "1          3  The Startup  \n",
       "2          7  The Startup  \n",
       "3          1  The Startup  \n",
       "4          0  The Startup  "
      ]
     },
     "execution_count": 42,
     "metadata": {},
     "output_type": "execute_result"
    }
   ],
   "source": [
    "df.head()"
   ]
  },
  {
   "cell_type": "code",
   "execution_count": 43,
   "metadata": {},
   "outputs": [
    {
     "name": "stdout",
     "output_type": "stream",
     "text": [
      "<class 'pandas.core.frame.DataFrame'>\n",
      "RangeIndex: 5985 entries, 0 to 5984\n",
      "Data columns (total 8 columns):\n",
      " #   Column        Non-Null Count  Dtype \n",
      "---  ------        --------------  ----- \n",
      " 0   Unnamed: 0    5985 non-null   int64 \n",
      " 1   Title         5979 non-null   object\n",
      " 2   SubTitle      3831 non-null   object\n",
      " 3   Link          5985 non-null   object\n",
      " 4   Claps         5985 non-null   int64 \n",
      " 5   Reading_Time  5985 non-null   int64 \n",
      " 6   Responses     5985 non-null   int64 \n",
      " 7   Publication   5985 non-null   object\n",
      "dtypes: int64(4), object(4)\n",
      "memory usage: 374.2+ KB\n"
     ]
    }
   ],
   "source": [
    "df.info()"
   ]
  },
  {
   "cell_type": "code",
   "execution_count": 44,
   "metadata": {},
   "outputs": [],
   "source": [
    "df = df.drop_duplicates()"
   ]
  },
  {
   "cell_type": "code",
   "execution_count": 45,
   "metadata": {},
   "outputs": [
    {
     "name": "stdout",
     "output_type": "stream",
     "text": [
      "<class 'pandas.core.frame.DataFrame'>\n",
      "Int64Index: 5985 entries, 0 to 5984\n",
      "Data columns (total 8 columns):\n",
      " #   Column        Non-Null Count  Dtype \n",
      "---  ------        --------------  ----- \n",
      " 0   Unnamed: 0    5985 non-null   int64 \n",
      " 1   Title         5979 non-null   object\n",
      " 2   SubTitle      3831 non-null   object\n",
      " 3   Link          5985 non-null   object\n",
      " 4   Claps         5985 non-null   int64 \n",
      " 5   Reading_Time  5985 non-null   int64 \n",
      " 6   Responses     5985 non-null   int64 \n",
      " 7   Publication   5985 non-null   object\n",
      "dtypes: int64(4), object(4)\n",
      "memory usage: 420.8+ KB\n"
     ]
    }
   ],
   "source": [
    "df.info()"
   ]
  },
  {
   "cell_type": "code",
   "execution_count": 46,
   "metadata": {},
   "outputs": [
    {
     "data": {
      "text/html": [
       "<div>\n",
       "<style scoped>\n",
       "    .dataframe tbody tr th:only-of-type {\n",
       "        vertical-align: middle;\n",
       "    }\n",
       "\n",
       "    .dataframe tbody tr th {\n",
       "        vertical-align: top;\n",
       "    }\n",
       "\n",
       "    .dataframe thead th {\n",
       "        text-align: right;\n",
       "    }\n",
       "</style>\n",
       "<table border=\"1\" class=\"dataframe\">\n",
       "  <thead>\n",
       "    <tr style=\"text-align: right;\">\n",
       "      <th></th>\n",
       "      <th>Unnamed: 0</th>\n",
       "      <th>Title</th>\n",
       "      <th>SubTitle</th>\n",
       "      <th>Link</th>\n",
       "      <th>Claps</th>\n",
       "      <th>Reading_Time</th>\n",
       "      <th>Responses</th>\n",
       "      <th>Publication</th>\n",
       "    </tr>\n",
       "  </thead>\n",
       "  <tbody>\n",
       "    <tr>\n",
       "      <th>5980</th>\n",
       "      <td>1915</td>\n",
       "      <td>5 steps to create a simple digital coloring bo...</td>\n",
       "      <td>Color those quarantine blues away</td>\n",
       "      <td>https://uxdesign.cc/5-steps-to-create-a-simple...</td>\n",
       "      <td>432</td>\n",
       "      <td>6</td>\n",
       "      <td>0</td>\n",
       "      <td>UX Collective</td>\n",
       "    </tr>\n",
       "    <tr>\n",
       "      <th>5981</th>\n",
       "      <td>1916</td>\n",
       "      <td>A Brief History of Paul Rand</td>\n",
       "      <td>Considered by many, the master of modernism, P...</td>\n",
       "      <td>https://uxdesign.cc/a-brief-history-of-paul-ra...</td>\n",
       "      <td>224</td>\n",
       "      <td>3</td>\n",
       "      <td>0</td>\n",
       "      <td>UX Collective</td>\n",
       "    </tr>\n",
       "    <tr>\n",
       "      <th>5982</th>\n",
       "      <td>1917</td>\n",
       "      <td>The user experience of public restrooms</td>\n",
       "      <td>NaN</td>\n",
       "      <td>https://uxdesign.cc/the-user-experience-of-pub...</td>\n",
       "      <td>20</td>\n",
       "      <td>4</td>\n",
       "      <td>0</td>\n",
       "      <td>UX Collective</td>\n",
       "    </tr>\n",
       "    <tr>\n",
       "      <th>5983</th>\n",
       "      <td>1918</td>\n",
       "      <td>Is it really all about the user?</td>\n",
       "      <td>&lt;strong class=\"markup--strong markup--h4-stron...</td>\n",
       "      <td>https://uxdesign.cc/is-it-really-all-about-the...</td>\n",
       "      <td>22</td>\n",
       "      <td>3</td>\n",
       "      <td>0</td>\n",
       "      <td>UX Collective</td>\n",
       "    </tr>\n",
       "    <tr>\n",
       "      <th>5984</th>\n",
       "      <td>1919</td>\n",
       "      <td>Goers UX Case Study — Kano Model Research</td>\n",
       "      <td>Ever feel in doubt which features are really t...</td>\n",
       "      <td>https://uxdesign.cc/goers-ux-case-study-kano-m...</td>\n",
       "      <td>8</td>\n",
       "      <td>6</td>\n",
       "      <td>0</td>\n",
       "      <td>UX Collective</td>\n",
       "    </tr>\n",
       "  </tbody>\n",
       "</table>\n",
       "</div>"
      ],
      "text/plain": [
       "      Unnamed: 0                                              Title  \\\n",
       "5980        1915  5 steps to create a simple digital coloring bo...   \n",
       "5981        1916                       A Brief History of Paul Rand   \n",
       "5982        1917            The user experience of public restrooms   \n",
       "5983        1918                   Is it really all about the user?   \n",
       "5984        1919          Goers UX Case Study — Kano Model Research   \n",
       "\n",
       "                                               SubTitle  \\\n",
       "5980                  Color those quarantine blues away   \n",
       "5981  Considered by many, the master of modernism, P...   \n",
       "5982                                                NaN   \n",
       "5983  <strong class=\"markup--strong markup--h4-stron...   \n",
       "5984  Ever feel in doubt which features are really t...   \n",
       "\n",
       "                                                   Link  Claps  Reading_Time  \\\n",
       "5980  https://uxdesign.cc/5-steps-to-create-a-simple...    432             6   \n",
       "5981  https://uxdesign.cc/a-brief-history-of-paul-ra...    224             3   \n",
       "5982  https://uxdesign.cc/the-user-experience-of-pub...     20             4   \n",
       "5983  https://uxdesign.cc/is-it-really-all-about-the...     22             3   \n",
       "5984  https://uxdesign.cc/goers-ux-case-study-kano-m...      8             6   \n",
       "\n",
       "      Responses    Publication  \n",
       "5980          0  UX Collective  \n",
       "5981          0  UX Collective  \n",
       "5982          0  UX Collective  \n",
       "5983          0  UX Collective  \n",
       "5984          0  UX Collective  "
      ]
     },
     "execution_count": 46,
     "metadata": {},
     "output_type": "execute_result"
    }
   ],
   "source": [
    "df.tail()"
   ]
  },
  {
   "cell_type": "code",
   "execution_count": 48,
   "metadata": {},
   "outputs": [],
   "source": [
    "df.drop('Unnamed: 0', axis=1, inplace=True)"
   ]
  },
  {
   "cell_type": "code",
   "execution_count": 50,
   "metadata": {},
   "outputs": [
    {
     "data": {
      "text/plain": [
       "Title              6\n",
       "SubTitle        2154\n",
       "Link               0\n",
       "Claps              0\n",
       "Reading_Time       0\n",
       "Responses          0\n",
       "Publication        0\n",
       "dtype: int64"
      ]
     },
     "execution_count": 50,
     "metadata": {},
     "output_type": "execute_result"
    }
   ],
   "source": [
    "df.isnull().sum()"
   ]
  },
  {
   "cell_type": "markdown",
   "metadata": {},
   "source": [
    "# Data Cleaning"
   ]
  },
  {
   "cell_type": "markdown",
   "metadata": {},
   "source": [
    "## Titles and Subtitles Issue"
   ]
  },
  {
   "cell_type": "code",
   "execution_count": 55,
   "metadata": {},
   "outputs": [
    {
     "data": {
      "text/plain": [
       "'Goers UX Case Study\\u200a—\\u200aKano Model\\xa0Research'"
      ]
     },
     "execution_count": 55,
     "metadata": {},
     "output_type": "execute_result"
    }
   ],
   "source": [
    "df.iloc[-1].Title"
   ]
  },
  {
   "cell_type": "code",
   "execution_count": 56,
   "metadata": {},
   "outputs": [
    {
     "data": {
      "text/plain": [
       "'Goers UX Case Study — Kano Model Research'"
      ]
     },
     "execution_count": 56,
     "metadata": {},
     "output_type": "execute_result"
    }
   ],
   "source": [
    "unicodedata.normalize(\"NFKD\", df.iloc[-1].Title)"
   ]
  },
  {
   "cell_type": "code",
   "execution_count": 57,
   "metadata": {},
   "outputs": [
    {
     "data": {
      "text/plain": [
       "'Ever feel in doubt which features are really the one\\xa0users…'"
      ]
     },
     "execution_count": 57,
     "metadata": {},
     "output_type": "execute_result"
    }
   ],
   "source": [
    "df.iloc[-1].SubTitle"
   ]
  },
  {
   "cell_type": "code",
   "execution_count": 58,
   "metadata": {},
   "outputs": [
    {
     "data": {
      "text/plain": [
       "'Ever feel in doubt which features are really the one users...'"
      ]
     },
     "execution_count": 58,
     "metadata": {},
     "output_type": "execute_result"
    }
   ],
   "source": [
    "unicodedata.normalize(\"NFKD\", df.iloc[-1].SubTitle)"
   ]
  },
  {
   "cell_type": "code",
   "execution_count": 96,
   "metadata": {},
   "outputs": [],
   "source": [
    "def title_sub(text):\n",
    "    if text != np.nan and type(text) is str:\n",
    "        return unicodedata.normalize(\"NFKD\", text)\n",
    "    else:\n",
    "        return text"
   ]
  },
  {
   "cell_type": "code",
   "execution_count": 100,
   "metadata": {},
   "outputs": [],
   "source": [
    "df['Title_clean'] = df.Title.apply(title_sub)"
   ]
  },
  {
   "cell_type": "code",
   "execution_count": 102,
   "metadata": {},
   "outputs": [],
   "source": [
    "df['SubTitle_clean'] = df.SubTitle.apply(title_sub)"
   ]
  },
  {
   "cell_type": "code",
   "execution_count": 103,
   "metadata": {},
   "outputs": [
    {
     "data": {
      "text/html": [
       "<div>\n",
       "<style scoped>\n",
       "    .dataframe tbody tr th:only-of-type {\n",
       "        vertical-align: middle;\n",
       "    }\n",
       "\n",
       "    .dataframe tbody tr th {\n",
       "        vertical-align: top;\n",
       "    }\n",
       "\n",
       "    .dataframe thead th {\n",
       "        text-align: right;\n",
       "    }\n",
       "</style>\n",
       "<table border=\"1\" class=\"dataframe\">\n",
       "  <thead>\n",
       "    <tr style=\"text-align: right;\">\n",
       "      <th></th>\n",
       "      <th>Title</th>\n",
       "      <th>SubTitle</th>\n",
       "      <th>Link</th>\n",
       "      <th>Claps</th>\n",
       "      <th>Reading_Time</th>\n",
       "      <th>Responses</th>\n",
       "      <th>Publication</th>\n",
       "      <th>Title_clean</th>\n",
       "      <th>SubTitle_clean</th>\n",
       "    </tr>\n",
       "  </thead>\n",
       "  <tbody>\n",
       "    <tr>\n",
       "      <th>5980</th>\n",
       "      <td>5 steps to create a simple digital coloring bo...</td>\n",
       "      <td>Color those quarantine blues away</td>\n",
       "      <td>https://uxdesign.cc/5-steps-to-create-a-simple...</td>\n",
       "      <td>432</td>\n",
       "      <td>6</td>\n",
       "      <td>0</td>\n",
       "      <td>UX Collective</td>\n",
       "      <td>5 steps to create a simple digital coloring bo...</td>\n",
       "      <td>Color those quarantine blues away</td>\n",
       "    </tr>\n",
       "    <tr>\n",
       "      <th>5981</th>\n",
       "      <td>A Brief History of Paul Rand</td>\n",
       "      <td>Considered by many, the master of modernism, P...</td>\n",
       "      <td>https://uxdesign.cc/a-brief-history-of-paul-ra...</td>\n",
       "      <td>224</td>\n",
       "      <td>3</td>\n",
       "      <td>0</td>\n",
       "      <td>UX Collective</td>\n",
       "      <td>A Brief History of Paul Rand</td>\n",
       "      <td>Considered by many, the master of modernism, P...</td>\n",
       "    </tr>\n",
       "    <tr>\n",
       "      <th>5982</th>\n",
       "      <td>The user experience of public restrooms</td>\n",
       "      <td>NaN</td>\n",
       "      <td>https://uxdesign.cc/the-user-experience-of-pub...</td>\n",
       "      <td>20</td>\n",
       "      <td>4</td>\n",
       "      <td>0</td>\n",
       "      <td>UX Collective</td>\n",
       "      <td>The user experience of public restrooms</td>\n",
       "      <td>NaN</td>\n",
       "    </tr>\n",
       "    <tr>\n",
       "      <th>5983</th>\n",
       "      <td>Is it really all about the user?</td>\n",
       "      <td>&lt;strong class=\"markup--strong markup--h4-stron...</td>\n",
       "      <td>https://uxdesign.cc/is-it-really-all-about-the...</td>\n",
       "      <td>22</td>\n",
       "      <td>3</td>\n",
       "      <td>0</td>\n",
       "      <td>UX Collective</td>\n",
       "      <td>Is it really all about the user?</td>\n",
       "      <td>&lt;strong class=\"markup--strong markup--h4-stron...</td>\n",
       "    </tr>\n",
       "    <tr>\n",
       "      <th>5984</th>\n",
       "      <td>Goers UX Case Study — Kano Model Research</td>\n",
       "      <td>Ever feel in doubt which features are really t...</td>\n",
       "      <td>https://uxdesign.cc/goers-ux-case-study-kano-m...</td>\n",
       "      <td>8</td>\n",
       "      <td>6</td>\n",
       "      <td>0</td>\n",
       "      <td>UX Collective</td>\n",
       "      <td>Goers UX Case Study — Kano Model Research</td>\n",
       "      <td>Ever feel in doubt which features are really t...</td>\n",
       "    </tr>\n",
       "  </tbody>\n",
       "</table>\n",
       "</div>"
      ],
      "text/plain": [
       "                                                  Title  \\\n",
       "5980  5 steps to create a simple digital coloring bo...   \n",
       "5981                       A Brief History of Paul Rand   \n",
       "5982            The user experience of public restrooms   \n",
       "5983                   Is it really all about the user?   \n",
       "5984          Goers UX Case Study — Kano Model Research   \n",
       "\n",
       "                                               SubTitle  \\\n",
       "5980                  Color those quarantine blues away   \n",
       "5981  Considered by many, the master of modernism, P...   \n",
       "5982                                                NaN   \n",
       "5983  <strong class=\"markup--strong markup--h4-stron...   \n",
       "5984  Ever feel in doubt which features are really t...   \n",
       "\n",
       "                                                   Link  Claps  Reading_Time  \\\n",
       "5980  https://uxdesign.cc/5-steps-to-create-a-simple...    432             6   \n",
       "5981  https://uxdesign.cc/a-brief-history-of-paul-ra...    224             3   \n",
       "5982  https://uxdesign.cc/the-user-experience-of-pub...     20             4   \n",
       "5983  https://uxdesign.cc/is-it-really-all-about-the...     22             3   \n",
       "5984  https://uxdesign.cc/goers-ux-case-study-kano-m...      8             6   \n",
       "\n",
       "      Responses    Publication  \\\n",
       "5980          0  UX Collective   \n",
       "5981          0  UX Collective   \n",
       "5982          0  UX Collective   \n",
       "5983          0  UX Collective   \n",
       "5984          0  UX Collective   \n",
       "\n",
       "                                            Title_clean  \\\n",
       "5980  5 steps to create a simple digital coloring bo...   \n",
       "5981                       A Brief History of Paul Rand   \n",
       "5982            The user experience of public restrooms   \n",
       "5983                   Is it really all about the user?   \n",
       "5984          Goers UX Case Study — Kano Model Research   \n",
       "\n",
       "                                         SubTitle_clean  \n",
       "5980                  Color those quarantine blues away  \n",
       "5981  Considered by many, the master of modernism, P...  \n",
       "5982                                                NaN  \n",
       "5983  <strong class=\"markup--strong markup--h4-stron...  \n",
       "5984  Ever feel in doubt which features are really t...  "
      ]
     },
     "execution_count": 103,
     "metadata": {},
     "output_type": "execute_result"
    }
   ],
   "source": [
    "df.tail()"
   ]
  },
  {
   "cell_type": "code",
   "execution_count": 114,
   "metadata": {},
   "outputs": [
    {
     "data": {
      "text/plain": [
       "'Color those quarantine blues\\xa0away'"
      ]
     },
     "execution_count": 114,
     "metadata": {},
     "output_type": "execute_result"
    }
   ],
   "source": [
    "df.iloc[-5].SubTitle"
   ]
  },
  {
   "cell_type": "code",
   "execution_count": 115,
   "metadata": {},
   "outputs": [
    {
     "data": {
      "text/plain": [
       "'Color those quarantine blues away'"
      ]
     },
     "execution_count": 115,
     "metadata": {},
     "output_type": "execute_result"
    }
   ],
   "source": [
    "df.iloc[-5].SubTitle_clean"
   ]
  },
  {
   "cell_type": "markdown",
   "metadata": {},
   "source": [
    "## Word Counts"
   ]
  },
  {
   "cell_type": "code",
   "execution_count": 122,
   "metadata": {},
   "outputs": [],
   "source": [
    "def wc(text):\n",
    "    return len(text.lower().split(' ')) if type(text) is str else 0"
   ]
  },
  {
   "cell_type": "code",
   "execution_count": 126,
   "metadata": {},
   "outputs": [],
   "source": [
    "df['Title_wc'] = df.Title_clean.apply(wc)"
   ]
  },
  {
   "cell_type": "code",
   "execution_count": 127,
   "metadata": {},
   "outputs": [],
   "source": [
    "df['SubTitle_wc'] = df.SubTitle_clean.apply(wc)"
   ]
  },
  {
   "cell_type": "code",
   "execution_count": 128,
   "metadata": {},
   "outputs": [
    {
     "data": {
      "text/html": [
       "<div>\n",
       "<style scoped>\n",
       "    .dataframe tbody tr th:only-of-type {\n",
       "        vertical-align: middle;\n",
       "    }\n",
       "\n",
       "    .dataframe tbody tr th {\n",
       "        vertical-align: top;\n",
       "    }\n",
       "\n",
       "    .dataframe thead th {\n",
       "        text-align: right;\n",
       "    }\n",
       "</style>\n",
       "<table border=\"1\" class=\"dataframe\">\n",
       "  <thead>\n",
       "    <tr style=\"text-align: right;\">\n",
       "      <th></th>\n",
       "      <th>Title</th>\n",
       "      <th>SubTitle</th>\n",
       "      <th>Link</th>\n",
       "      <th>Claps</th>\n",
       "      <th>Reading_Time</th>\n",
       "      <th>Responses</th>\n",
       "      <th>Publication</th>\n",
       "      <th>Title_clean</th>\n",
       "      <th>SubTitle_clean</th>\n",
       "      <th>Title_wc</th>\n",
       "      <th>SubTitle_wc</th>\n",
       "    </tr>\n",
       "  </thead>\n",
       "  <tbody>\n",
       "    <tr>\n",
       "      <th>0</th>\n",
       "      <td>The Reported Mortality Rate of Coronavirus Is ...</td>\n",
       "      <td>Why the “mortality rate” of the Wuhan coronavi...</td>\n",
       "      <td>https://medium.com/swlh/the-reported-mortality...</td>\n",
       "      <td>1100</td>\n",
       "      <td>13</td>\n",
       "      <td>18</td>\n",
       "      <td>The Startup</td>\n",
       "      <td>The Reported Mortality Rate of Coronavirus Is ...</td>\n",
       "      <td>Why the “mortality rate” of the Wuhan coronavi...</td>\n",
       "      <td>9</td>\n",
       "      <td>20</td>\n",
       "    </tr>\n",
       "    <tr>\n",
       "      <th>1</th>\n",
       "      <td>Dashboards in Python: 3 Advanced Examples for ...</td>\n",
       "      <td>Code a Python…</td>\n",
       "      <td>https://medium.com/swlh/dashboards-in-python-3...</td>\n",
       "      <td>726</td>\n",
       "      <td>14</td>\n",
       "      <td>3</td>\n",
       "      <td>The Startup</td>\n",
       "      <td>Dashboards in Python: 3 Advanced Examples for ...</td>\n",
       "      <td>Code a Python...</td>\n",
       "      <td>12</td>\n",
       "      <td>3</td>\n",
       "    </tr>\n",
       "    <tr>\n",
       "      <th>2</th>\n",
       "      <td>How Can We Best Switch in Python?</td>\n",
       "      <td>Are you tired of writing too many if…elif…else...</td>\n",
       "      <td>https://medium.com/swlh/how-can-we-best-switch...</td>\n",
       "      <td>500</td>\n",
       "      <td>6</td>\n",
       "      <td>7</td>\n",
       "      <td>The Startup</td>\n",
       "      <td>How Can We Best Switch in Python?</td>\n",
       "      <td>Are you tired of writing too many if...elif......</td>\n",
       "      <td>7</td>\n",
       "      <td>11</td>\n",
       "    </tr>\n",
       "    <tr>\n",
       "      <th>3</th>\n",
       "      <td>Maternity leave shouldn’t set women back</td>\n",
       "      <td>NaN</td>\n",
       "      <td>https://medium.com/swlh/maternity-leave-should...</td>\n",
       "      <td>460</td>\n",
       "      <td>9</td>\n",
       "      <td>1</td>\n",
       "      <td>The Startup</td>\n",
       "      <td>Maternity leave shouldn’t set women back</td>\n",
       "      <td>NaN</td>\n",
       "      <td>6</td>\n",
       "      <td>0</td>\n",
       "    </tr>\n",
       "    <tr>\n",
       "      <th>4</th>\n",
       "      <td>Python NLP Tutorial: Information Extraction an...</td>\n",
       "      <td>NaN</td>\n",
       "      <td>https://medium.com/swlh/python-nlp-tutorial-in...</td>\n",
       "      <td>163</td>\n",
       "      <td>7</td>\n",
       "      <td>0</td>\n",
       "      <td>The Startup</td>\n",
       "      <td>Python NLP Tutorial: Information Extraction an...</td>\n",
       "      <td>NaN</td>\n",
       "      <td>8</td>\n",
       "      <td>0</td>\n",
       "    </tr>\n",
       "  </tbody>\n",
       "</table>\n",
       "</div>"
      ],
      "text/plain": [
       "                                               Title  \\\n",
       "0  The Reported Mortality Rate of Coronavirus Is ...   \n",
       "1  Dashboards in Python: 3 Advanced Examples for ...   \n",
       "2                  How Can We Best Switch in Python?   \n",
       "3           Maternity leave shouldn’t set women back   \n",
       "4  Python NLP Tutorial: Information Extraction an...   \n",
       "\n",
       "                                            SubTitle  \\\n",
       "0  Why the “mortality rate” of the Wuhan coronavi...   \n",
       "1                                     Code a Python…   \n",
       "2  Are you tired of writing too many if…elif…else...   \n",
       "3                                                NaN   \n",
       "4                                                NaN   \n",
       "\n",
       "                                                Link  Claps  Reading_Time  \\\n",
       "0  https://medium.com/swlh/the-reported-mortality...   1100            13   \n",
       "1  https://medium.com/swlh/dashboards-in-python-3...    726            14   \n",
       "2  https://medium.com/swlh/how-can-we-best-switch...    500             6   \n",
       "3  https://medium.com/swlh/maternity-leave-should...    460             9   \n",
       "4  https://medium.com/swlh/python-nlp-tutorial-in...    163             7   \n",
       "\n",
       "   Responses  Publication                                        Title_clean  \\\n",
       "0         18  The Startup  The Reported Mortality Rate of Coronavirus Is ...   \n",
       "1          3  The Startup  Dashboards in Python: 3 Advanced Examples for ...   \n",
       "2          7  The Startup                  How Can We Best Switch in Python?   \n",
       "3          1  The Startup           Maternity leave shouldn’t set women back   \n",
       "4          0  The Startup  Python NLP Tutorial: Information Extraction an...   \n",
       "\n",
       "                                      SubTitle_clean  Title_wc  SubTitle_wc  \n",
       "0  Why the “mortality rate” of the Wuhan coronavi...         9           20  \n",
       "1                                   Code a Python...        12            3  \n",
       "2  Are you tired of writing too many if...elif......         7           11  \n",
       "3                                                NaN         6            0  \n",
       "4                                                NaN         8            0  "
      ]
     },
     "execution_count": 128,
     "metadata": {},
     "output_type": "execute_result"
    }
   ],
   "source": [
    "df.head()"
   ]
  },
  {
   "cell_type": "code",
   "execution_count": 149,
   "metadata": {},
   "outputs": [],
   "source": [
    "df.to_csv('Cleaned_Medium_Data.csv', index=False)"
   ]
  },
  {
   "cell_type": "markdown",
   "metadata": {},
   "source": [
    "# Data Exploration"
   ]
  },
  {
   "cell_type": "code",
   "execution_count": 130,
   "metadata": {},
   "outputs": [],
   "source": [
    "import matplotlib.pyplot as plt\n",
    "import seaborn as sns"
   ]
  },
  {
   "cell_type": "code",
   "execution_count": 184,
   "metadata": {},
   "outputs": [
    {
     "data": {
      "image/png": "[encoded data removed]",
      "text/plain": [
       "<Figure size 432x288 with 1 Axes>"
      ]
     },
     "metadata": {
      "needs_background": "light"
     },
     "output_type": "display_data"
    }
   ],
   "source": [
    "sns.barplot(y=df.Publication.unique(), x=df.groupby('Publication').sum().Claps);  # Publication's Claps"
   ]
  },
  {
   "cell_type": "code",
   "execution_count": 185,
   "metadata": {},
   "outputs": [
    {
     "data": {
      "image/png": "[encoded data removed]",
      "text/plain": [
       "<Figure size 432x288 with 1 Axes>"
      ]
     },
     "metadata": {
      "needs_background": "light"
     },
     "output_type": "display_data"
    }
   ],
   "source": [
    "sns.distplot(df.Claps);  # Distribution of Claps"
   ]
  },
  {
   "cell_type": "code",
   "execution_count": 186,
   "metadata": {},
   "outputs": [
    {
     "data": {
      "image/png": "[encoded data removed]",
      "text/plain": [
       "<Figure size 432x288 with 1 Axes>"
      ]
     },
     "metadata": {
      "needs_background": "light"
     },
     "output_type": "display_data"
    }
   ],
   "source": [
    "sns.distplot(df.Reading_Time);  # Distribution of Reading_Time"
   ]
  },
  {
   "cell_type": "code",
   "execution_count": 187,
   "metadata": {},
   "outputs": [
    {
     "data": {
      "image/png": "[encoded data removed]",
      "text/plain": [
       "<Figure size 432x288 with 1 Axes>"
      ]
     },
     "metadata": {
      "needs_background": "light"
     },
     "output_type": "display_data"
    }
   ],
   "source": [
    "sns.distplot(df.Responses);  # Distribution of Responses"
   ]
  },
  {
   "cell_type": "code",
   "execution_count": 190,
   "metadata": {},
   "outputs": [
    {
     "data": {
      "image/png": "[encoded data removed]",
      "text/plain": [
       "<Figure size 720x576 with 1 Axes>"
      ]
     },
     "metadata": {
      "needs_background": "light"
     },
     "output_type": "display_data"
    }
   ],
   "source": [
    "plt.figure(figsize=(10,8));\n",
    "ax = sns.boxplot(x=df.Claps, y=df.Publication);\n",
    "plt.xticks(rotation=45);  # Publications in terms of Claps"
   ]
  },
  {
   "cell_type": "code",
   "execution_count": 193,
   "metadata": {},
   "outputs": [
    {
     "data": {
      "image/png": "[encoded data removed]",
      "text/plain": [
       "<Figure size 720x576 with 1 Axes>"
      ]
     },
     "metadata": {
      "needs_background": "light"
     },
     "output_type": "display_data"
    }
   ],
   "source": [
    "plt.figure(figsize=(10,8));\n",
    "ax = sns.boxplot(x=df.Responses, y=df.Publication);\n",
    "plt.xticks(rotation=45);  # Publications in terms of Responses"
   ]
  },
  {
   "cell_type": "code",
   "execution_count": 195,
   "metadata": {},
   "outputs": [
    {
     "data": {
      "image/png": "[encoded data removed]",
      "text/plain": [
       "<Figure size 720x576 with 1 Axes>"
      ]
     },
     "metadata": {
      "needs_background": "light"
     },
     "output_type": "display_data"
    }
   ],
   "source": [
    "plt.figure(figsize=(10,8));\n",
    "ax = sns.boxplot(x=df.Reading_Time, y=df.Publication);\n",
    "plt.xticks(rotation=45);  # Publications in terms of Reading_time"
   ]
  },
  {
   "cell_type": "code",
   "execution_count": 183,
   "metadata": {},
   "outputs": [
    {
     "data": {
      "image/png": "[encoded data removed]",
      "text/plain": [
       "<Figure size 432x288 with 1 Axes>"
      ]
     },
     "metadata": {
      "needs_background": "light"
     },
     "output_type": "display_data"
    }
   ],
   "source": [
    "sns.lineplot(y=df.Claps, x=df.Reading_Time);  # Claps vs Reading_Time"
   ]
  },
  {
   "cell_type": "code",
   "execution_count": 196,
   "metadata": {},
   "outputs": [
    {
     "data": {
      "image/png": "[encoded data removed]",
      "text/plain": [
       "<Figure size 432x288 with 1 Axes>"
      ]
     },
     "metadata": {
      "needs_background": "light"
     },
     "output_type": "display_data"
    }
   ],
   "source": [
    "sns.lineplot(x=df.Responses, y=df.Reading_Time); # Responses vs Reading_Time"
   ]
  },
  {
   "cell_type": "code",
   "execution_count": 197,
   "metadata": {},
   "outputs": [
    {
     "data": {
      "image/png": "[encoded data removed]",
      "text/plain": [
       "<Figure size 432x288 with 1 Axes>"
      ]
     },
     "metadata": {
      "needs_background": "light"
     },
     "output_type": "display_data"
    }
   ],
   "source": [
    "sns.lineplot(x=df.Responses, y=df.Claps); # Responses vs Reading_Time"
   ]
  },
  {
   "cell_type": "code",
   "execution_count": 199,
   "metadata": {},
   "outputs": [
    {
     "data": {
      "image/png": "[encoded data removed]",
      "text/plain": [
       "<Figure size 432x288 with 1 Axes>"
      ]
     },
     "metadata": {
      "needs_background": "light"
     },
     "output_type": "display_data"
    }
   ],
   "source": [
    "sns.lineplot(x=df.Responses[df.Claps>0], y=np.log10(df.Claps[df.Claps>0]));"
   ]
  },
  {
   "cell_type": "code",
   "execution_count": 173,
   "metadata": {},
   "outputs": [
    {
     "data": {
      "image/png": "[encoded data removed]",
      "text/plain": [
       "<Figure size 432x432 with 3 Axes>"
      ]
     },
     "metadata": {
      "needs_background": "light"
     },
     "output_type": "display_data"
    }
   ],
   "source": [
    "sns.jointplot(x=\"Claps\", y=\"Reading_Time\", data=df[(df.Claps < 500) & (df.Reading_Time < 10)], kind=\"kde\"); "
   ]
  },
  {
   "cell_type": "code",
   "execution_count": null,
   "metadata": {},
   "outputs": [],
   "source": []
  }
 ],
 "metadata": {
  "kernelspec": {
   "display_name": "Python 3",
   "language": "python",
   "name": "python3"
  },
  "language_info": {
   "codemirror_mode": {
    "name": "ipython",
    "version": 3
   },
   "file_extension": ".py",
   "mimetype": "text/x-python",
   "name": "python",
   "nbconvert_exporter": "python",
   "pygments_lexer": "ipython3",
   "version": "3.7.6"
  }
 },
 "nbformat": 4,
 "nbformat_minor": 4
}
