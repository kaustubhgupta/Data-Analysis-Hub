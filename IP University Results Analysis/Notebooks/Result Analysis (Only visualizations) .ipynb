{
 "cells": [
  {
   "cell_type": "markdown",
   "metadata": {},
   "source": [
    "# Analysis Beign"
   ]
  },
  {
   "cell_type": "markdown",
   "metadata": {},
   "source": [
    "## Student distribution"
   ]
  },
  {
   "cell_type": "code",
   "execution_count": 454,
   "metadata": {},
   "outputs": [
    {
     "data": {
      "image/png": "[encoded data removed]",
      "text/plain": [
       "<Figure size 360x360 with 1 Axes>"
      ]
     },
     "metadata": {
      "needs_background": "light"
     },
     "output_type": "display_data"
    }
   ],
   "source": [
    "sns.displot(data=df_4thSem, x=\"Branch\", shrink=.8);\n",
    "plt.title('Students distrubution in Different Branches (University level)', fontsize=15);"
   ]
  },
  {
   "cell_type": "markdown",
   "metadata": {},
   "source": [
    "## Average SGPA and Percentage of each college for every branch"
   ]
  },
  {
   "cell_type": "markdown",
   "metadata": {},
   "source": [
    "### 4th-semester"
   ]
  },
  {
   "cell_type": "code",
   "execution_count": 363,
   "metadata": {},
   "outputs": [
    {
     "data": {
      "text/html": [
       "<div>\n",
       "<style scoped>\n",
       "    .dataframe tbody tr th:only-of-type {\n",
       "        vertical-align: middle;\n",
       "    }\n",
       "\n",
       "    .dataframe tbody tr th {\n",
       "        vertical-align: top;\n",
       "    }\n",
       "\n",
       "    .dataframe thead th {\n",
       "        text-align: right;\n",
       "    }\n",
       "</style>\n",
       "<table border=\"1\" class=\"dataframe\">\n",
       "  <thead>\n",
       "    <tr style=\"text-align: right;\">\n",
       "      <th></th>\n",
       "      <th></th>\n",
       "      <th>SGPA</th>\n",
       "      <th>Percentage</th>\n",
       "    </tr>\n",
       "    <tr>\n",
       "      <th>College</th>\n",
       "      <th>Branch</th>\n",
       "      <th></th>\n",
       "      <th></th>\n",
       "    </tr>\n",
       "  </thead>\n",
       "  <tbody>\n",
       "    <tr>\n",
       "      <th rowspan=\"2\" valign=\"top\">AIACTR</th>\n",
       "      <th>CSE</th>\n",
       "      <td>7.786885</td>\n",
       "      <td>70.575115</td>\n",
       "    </tr>\n",
       "    <tr>\n",
       "      <th>ECE</th>\n",
       "      <td>7.654037</td>\n",
       "      <td>70.145635</td>\n",
       "    </tr>\n",
       "    <tr>\n",
       "      <th rowspan=\"4\" valign=\"top\">BMCEM</th>\n",
       "      <th>CSE</th>\n",
       "      <td>9.058748</td>\n",
       "      <td>82.733019</td>\n",
       "    </tr>\n",
       "    <tr>\n",
       "      <th>ECE</th>\n",
       "      <td>9.375000</td>\n",
       "      <td>85.750000</td>\n",
       "    </tr>\n",
       "    <tr>\n",
       "      <th>EEE</th>\n",
       "      <td>8.982759</td>\n",
       "      <td>81.416500</td>\n",
       "    </tr>\n",
       "    <tr>\n",
       "      <th>IT</th>\n",
       "      <td>9.014368</td>\n",
       "      <td>81.368083</td>\n",
       "    </tr>\n",
       "    <tr>\n",
       "      <th rowspan=\"3\" valign=\"top\">BMIET</th>\n",
       "      <th>CSE</th>\n",
       "      <td>8.095682</td>\n",
       "      <td>73.868613</td>\n",
       "    </tr>\n",
       "    <tr>\n",
       "      <th>ECE</th>\n",
       "      <td>7.760714</td>\n",
       "      <td>70.666600</td>\n",
       "    </tr>\n",
       "    <tr>\n",
       "      <th>EEE</th>\n",
       "      <td>8.353448</td>\n",
       "      <td>74.729250</td>\n",
       "    </tr>\n",
       "    <tr>\n",
       "      <th rowspan=\"4\" valign=\"top\">BPIT</th>\n",
       "      <th>CSE</th>\n",
       "      <td>8.773772</td>\n",
       "      <td>81.188098</td>\n",
       "    </tr>\n",
       "    <tr>\n",
       "      <th>ECE</th>\n",
       "      <td>8.491821</td>\n",
       "      <td>77.736023</td>\n",
       "    </tr>\n",
       "    <tr>\n",
       "      <th>EEE</th>\n",
       "      <td>8.754310</td>\n",
       "      <td>80.598321</td>\n",
       "    </tr>\n",
       "    <tr>\n",
       "      <th>IT</th>\n",
       "      <td>8.538032</td>\n",
       "      <td>78.007353</td>\n",
       "    </tr>\n",
       "    <tr>\n",
       "      <th rowspan=\"4\" valign=\"top\">BVCOE</th>\n",
       "      <th>CSE</th>\n",
       "      <td>8.506948</td>\n",
       "      <td>77.934090</td>\n",
       "    </tr>\n",
       "    <tr>\n",
       "      <th>ECE</th>\n",
       "      <td>8.236201</td>\n",
       "      <td>74.836159</td>\n",
       "    </tr>\n",
       "    <tr>\n",
       "      <th>EEE</th>\n",
       "      <td>8.557471</td>\n",
       "      <td>78.101367</td>\n",
       "    </tr>\n",
       "    <tr>\n",
       "      <th>IT</th>\n",
       "      <td>8.616180</td>\n",
       "      <td>78.498085</td>\n",
       "    </tr>\n",
       "    <tr>\n",
       "      <th>CBPGEC</th>\n",
       "      <th>IT</th>\n",
       "      <td>8.235970</td>\n",
       "      <td>73.593137</td>\n",
       "    </tr>\n",
       "    <tr>\n",
       "      <th rowspan=\"2\" valign=\"top\">DITM</th>\n",
       "      <th>CSE</th>\n",
       "      <td>6.061576</td>\n",
       "      <td>54.619143</td>\n",
       "    </tr>\n",
       "    <tr>\n",
       "      <th>ECE</th>\n",
       "      <td>8.678571</td>\n",
       "      <td>77.041750</td>\n",
       "    </tr>\n",
       "    <tr>\n",
       "      <th rowspan=\"3\" valign=\"top\">DTC</th>\n",
       "      <th>CSE</th>\n",
       "      <td>8.109336</td>\n",
       "      <td>72.390943</td>\n",
       "    </tr>\n",
       "    <tr>\n",
       "      <th>ECE</th>\n",
       "      <td>7.915584</td>\n",
       "      <td>71.309091</td>\n",
       "    </tr>\n",
       "    <tr>\n",
       "      <th>MAE</th>\n",
       "      <td>8.197205</td>\n",
       "      <td>73.907587</td>\n",
       "    </tr>\n",
       "    <tr>\n",
       "      <th rowspan=\"3\" valign=\"top\">GBPGEC</th>\n",
       "      <th>CSE</th>\n",
       "      <td>7.410022</td>\n",
       "      <td>65.727844</td>\n",
       "    </tr>\n",
       "    <tr>\n",
       "      <th>ECE</th>\n",
       "      <td>6.931650</td>\n",
       "      <td>61.205500</td>\n",
       "    </tr>\n",
       "    <tr>\n",
       "      <th>MAE</th>\n",
       "      <td>7.475995</td>\n",
       "      <td>68.263639</td>\n",
       "    </tr>\n",
       "    <tr>\n",
       "      <th rowspan=\"3\" valign=\"top\">GNNT</th>\n",
       "      <th>CSE</th>\n",
       "      <td>8.285969</td>\n",
       "      <td>74.903672</td>\n",
       "    </tr>\n",
       "    <tr>\n",
       "      <th>ECE</th>\n",
       "      <td>8.333333</td>\n",
       "      <td>75.263944</td>\n",
       "    </tr>\n",
       "    <tr>\n",
       "      <th>IT</th>\n",
       "      <td>8.362069</td>\n",
       "      <td>74.711286</td>\n",
       "    </tr>\n",
       "    <tr>\n",
       "      <th rowspan=\"4\" valign=\"top\">GTBIT</th>\n",
       "      <th>CSE</th>\n",
       "      <td>8.401517</td>\n",
       "      <td>76.879597</td>\n",
       "    </tr>\n",
       "    <tr>\n",
       "      <th>ECE</th>\n",
       "      <td>8.277473</td>\n",
       "      <td>75.082846</td>\n",
       "    </tr>\n",
       "    <tr>\n",
       "      <th>EEE</th>\n",
       "      <td>8.133529</td>\n",
       "      <td>73.774851</td>\n",
       "    </tr>\n",
       "    <tr>\n",
       "      <th>IT</th>\n",
       "      <td>8.390924</td>\n",
       "      <td>76.629083</td>\n",
       "    </tr>\n",
       "    <tr>\n",
       "      <th rowspan=\"5\" valign=\"top\">HMR</th>\n",
       "      <th>CSE</th>\n",
       "      <td>8.428518</td>\n",
       "      <td>76.762189</td>\n",
       "    </tr>\n",
       "    <tr>\n",
       "      <th>ECE</th>\n",
       "      <td>8.400270</td>\n",
       "      <td>75.526214</td>\n",
       "    </tr>\n",
       "    <tr>\n",
       "      <th>EEE</th>\n",
       "      <td>8.317529</td>\n",
       "      <td>74.151083</td>\n",
       "    </tr>\n",
       "    <tr>\n",
       "      <th>IT</th>\n",
       "      <td>8.176724</td>\n",
       "      <td>72.755219</td>\n",
       "    </tr>\n",
       "    <tr>\n",
       "      <th>MAE</th>\n",
       "      <td>7.818296</td>\n",
       "      <td>70.194439</td>\n",
       "    </tr>\n",
       "    <tr>\n",
       "      <th rowspan=\"2\" valign=\"top\">JIMS</th>\n",
       "      <th>CSE</th>\n",
       "      <td>8.521691</td>\n",
       "      <td>78.342742</td>\n",
       "    </tr>\n",
       "    <tr>\n",
       "      <th>ECE</th>\n",
       "      <td>7.864935</td>\n",
       "      <td>66.942364</td>\n",
       "    </tr>\n",
       "    <tr>\n",
       "      <th rowspan=\"5\" valign=\"top\">MAIT</th>\n",
       "      <th>CSE</th>\n",
       "      <td>8.540765</td>\n",
       "      <td>78.110442</td>\n",
       "    </tr>\n",
       "    <tr>\n",
       "      <th>ECE</th>\n",
       "      <td>8.540536</td>\n",
       "      <td>77.859165</td>\n",
       "    </tr>\n",
       "    <tr>\n",
       "      <th>EEE</th>\n",
       "      <td>8.656805</td>\n",
       "      <td>78.487692</td>\n",
       "    </tr>\n",
       "    <tr>\n",
       "      <th>IT</th>\n",
       "      <td>8.675229</td>\n",
       "      <td>79.686628</td>\n",
       "    </tr>\n",
       "    <tr>\n",
       "      <th>MAE</th>\n",
       "      <td>8.307018</td>\n",
       "      <td>75.646684</td>\n",
       "    </tr>\n",
       "    <tr>\n",
       "      <th rowspan=\"4\" valign=\"top\">MSIT</th>\n",
       "      <th>CSE</th>\n",
       "      <td>8.705329</td>\n",
       "      <td>80.362042</td>\n",
       "    </tr>\n",
       "    <tr>\n",
       "      <th>ECE</th>\n",
       "      <td>8.837491</td>\n",
       "      <td>80.346127</td>\n",
       "    </tr>\n",
       "    <tr>\n",
       "      <th>EEE</th>\n",
       "      <td>8.618661</td>\n",
       "      <td>78.034353</td>\n",
       "    </tr>\n",
       "    <tr>\n",
       "      <th>IT</th>\n",
       "      <td>8.783525</td>\n",
       "      <td>80.509702</td>\n",
       "    </tr>\n",
       "    <tr>\n",
       "      <th rowspan=\"2\" valign=\"top\">MSWAMI</th>\n",
       "      <th>CSE</th>\n",
       "      <td>8.892648</td>\n",
       "      <td>81.632113</td>\n",
       "    </tr>\n",
       "    <tr>\n",
       "      <th>ECE</th>\n",
       "      <td>8.912088</td>\n",
       "      <td>81.032154</td>\n",
       "    </tr>\n",
       "    <tr>\n",
       "      <th rowspan=\"5\" valign=\"top\">NIEC</th>\n",
       "      <th>CSE</th>\n",
       "      <td>8.575898</td>\n",
       "      <td>77.705773</td>\n",
       "    </tr>\n",
       "    <tr>\n",
       "      <th>ECE</th>\n",
       "      <td>8.532978</td>\n",
       "      <td>77.523939</td>\n",
       "    </tr>\n",
       "    <tr>\n",
       "      <th>EEE</th>\n",
       "      <td>8.579937</td>\n",
       "      <td>78.260881</td>\n",
       "    </tr>\n",
       "    <tr>\n",
       "      <th>IT</th>\n",
       "      <td>8.701751</td>\n",
       "      <td>79.447220</td>\n",
       "    </tr>\n",
       "    <tr>\n",
       "      <th>MAE</th>\n",
       "      <td>8.747940</td>\n",
       "      <td>79.534731</td>\n",
       "    </tr>\n",
       "  </tbody>\n",
       "</table>\n",
       "</div>"
      ],
      "text/plain": [
       "                    SGPA  Percentage\n",
       "College Branch                      \n",
       "AIACTR  CSE     7.786885   70.575115\n",
       "        ECE     7.654037   70.145635\n",
       "BMCEM   CSE     9.058748   82.733019\n",
       "        ECE     9.375000   85.750000\n",
       "        EEE     8.982759   81.416500\n",
       "        IT      9.014368   81.368083\n",
       "BMIET   CSE     8.095682   73.868613\n",
       "        ECE     7.760714   70.666600\n",
       "        EEE     8.353448   74.729250\n",
       "BPIT    CSE     8.773772   81.188098\n",
       "        ECE     8.491821   77.736023\n",
       "        EEE     8.754310   80.598321\n",
       "        IT      8.538032   78.007353\n",
       "BVCOE   CSE     8.506948   77.934090\n",
       "        ECE     8.236201   74.836159\n",
       "        EEE     8.557471   78.101367\n",
       "        IT      8.616180   78.498085\n",
       "CBPGEC  IT      8.235970   73.593137\n",
       "DITM    CSE     6.061576   54.619143\n",
       "        ECE     8.678571   77.041750\n",
       "DTC     CSE     8.109336   72.390943\n",
       "        ECE     7.915584   71.309091\n",
       "        MAE     8.197205   73.907587\n",
       "GBPGEC  CSE     7.410022   65.727844\n",
       "        ECE     6.931650   61.205500\n",
       "        MAE     7.475995   68.263639\n",
       "GNNT    CSE     8.285969   74.903672\n",
       "        ECE     8.333333   75.263944\n",
       "        IT      8.362069   74.711286\n",
       "GTBIT   CSE     8.401517   76.879597\n",
       "        ECE     8.277473   75.082846\n",
       "        EEE     8.133529   73.774851\n",
       "        IT      8.390924   76.629083\n",
       "HMR     CSE     8.428518   76.762189\n",
       "        ECE     8.400270   75.526214\n",
       "        EEE     8.317529   74.151083\n",
       "        IT      8.176724   72.755219\n",
       "        MAE     7.818296   70.194439\n",
       "JIMS    CSE     8.521691   78.342742\n",
       "        ECE     7.864935   66.942364\n",
       "MAIT    CSE     8.540765   78.110442\n",
       "        ECE     8.540536   77.859165\n",
       "        EEE     8.656805   78.487692\n",
       "        IT      8.675229   79.686628\n",
       "        MAE     8.307018   75.646684\n",
       "MSIT    CSE     8.705329   80.362042\n",
       "        ECE     8.837491   80.346127\n",
       "        EEE     8.618661   78.034353\n",
       "        IT      8.783525   80.509702\n",
       "MSWAMI  CSE     8.892648   81.632113\n",
       "        ECE     8.912088   81.032154\n",
       "NIEC    CSE     8.575898   77.705773\n",
       "        ECE     8.532978   77.523939\n",
       "        EEE     8.579937   78.260881\n",
       "        IT      8.701751   79.447220\n",
       "        MAE     8.747940   79.534731"
      ]
     },
     "execution_count": 363,
     "metadata": {},
     "output_type": "execute_result"
    }
   ],
   "source": [
    "df_4thSem.groupby(['College', 'Branch']).mean()[['SGPA', 'Percentage']]"
   ]
  },
  {
   "cell_type": "markdown",
   "metadata": {},
   "source": [
    "### 3rd-semester"
   ]
  },
  {
   "cell_type": "code",
   "execution_count": 364,
   "metadata": {},
   "outputs": [
    {
     "data": {
      "text/html": [
       "<div>\n",
       "<style scoped>\n",
       "    .dataframe tbody tr th:only-of-type {\n",
       "        vertical-align: middle;\n",
       "    }\n",
       "\n",
       "    .dataframe tbody tr th {\n",
       "        vertical-align: top;\n",
       "    }\n",
       "\n",
       "    .dataframe thead th {\n",
       "        text-align: right;\n",
       "    }\n",
       "</style>\n",
       "<table border=\"1\" class=\"dataframe\">\n",
       "  <thead>\n",
       "    <tr style=\"text-align: right;\">\n",
       "      <th></th>\n",
       "      <th></th>\n",
       "      <th>SGPA</th>\n",
       "      <th>Percentage</th>\n",
       "    </tr>\n",
       "    <tr>\n",
       "      <th>College</th>\n",
       "      <th>Branch</th>\n",
       "      <th></th>\n",
       "      <th></th>\n",
       "    </tr>\n",
       "  </thead>\n",
       "  <tbody>\n",
       "    <tr>\n",
       "      <th rowspan=\"2\" valign=\"top\">AIACTR</th>\n",
       "      <th>CSE</th>\n",
       "      <td>7.008145</td>\n",
       "      <td>69.131579</td>\n",
       "    </tr>\n",
       "    <tr>\n",
       "      <th>ECE</th>\n",
       "      <td>6.659832</td>\n",
       "      <td>67.791928</td>\n",
       "    </tr>\n",
       "    <tr>\n",
       "      <th rowspan=\"4\" valign=\"top\">BMCEM</th>\n",
       "      <th>CSE</th>\n",
       "      <td>6.691558</td>\n",
       "      <td>69.725455</td>\n",
       "    </tr>\n",
       "    <tr>\n",
       "      <th>ECE</th>\n",
       "      <td>7.586207</td>\n",
       "      <td>78.273000</td>\n",
       "    </tr>\n",
       "    <tr>\n",
       "      <th>EEE</th>\n",
       "      <td>4.321429</td>\n",
       "      <td>47.303000</td>\n",
       "    </tr>\n",
       "    <tr>\n",
       "      <th>IT</th>\n",
       "      <td>6.026786</td>\n",
       "      <td>67.066667</td>\n",
       "    </tr>\n",
       "    <tr>\n",
       "      <th rowspan=\"3\" valign=\"top\">BMIET</th>\n",
       "      <th>CSE</th>\n",
       "      <td>6.648052</td>\n",
       "      <td>66.739091</td>\n",
       "    </tr>\n",
       "    <tr>\n",
       "      <th>ECE</th>\n",
       "      <td>5.682759</td>\n",
       "      <td>63.063600</td>\n",
       "    </tr>\n",
       "    <tr>\n",
       "      <th>EEE</th>\n",
       "      <td>7.008929</td>\n",
       "      <td>70.227500</td>\n",
       "    </tr>\n",
       "    <tr>\n",
       "      <th rowspan=\"4\" valign=\"top\">BPIT</th>\n",
       "      <th>CSE</th>\n",
       "      <td>7.205898</td>\n",
       "      <td>71.587121</td>\n",
       "    </tr>\n",
       "    <tr>\n",
       "      <th>ECE</th>\n",
       "      <td>6.578631</td>\n",
       "      <td>68.718985</td>\n",
       "    </tr>\n",
       "    <tr>\n",
       "      <th>EEE</th>\n",
       "      <td>6.933673</td>\n",
       "      <td>73.443214</td>\n",
       "    </tr>\n",
       "    <tr>\n",
       "      <th>IT</th>\n",
       "      <td>6.740021</td>\n",
       "      <td>69.167647</td>\n",
       "    </tr>\n",
       "    <tr>\n",
       "      <th rowspan=\"4\" valign=\"top\">BVCOE</th>\n",
       "      <th>CSE</th>\n",
       "      <td>7.443230</td>\n",
       "      <td>72.119403</td>\n",
       "    </tr>\n",
       "    <tr>\n",
       "      <th>ECE</th>\n",
       "      <td>6.935619</td>\n",
       "      <td>69.924353</td>\n",
       "    </tr>\n",
       "    <tr>\n",
       "      <th>EEE</th>\n",
       "      <td>7.180952</td>\n",
       "      <td>71.380250</td>\n",
       "    </tr>\n",
       "    <tr>\n",
       "      <th>IT</th>\n",
       "      <td>7.055495</td>\n",
       "      <td>69.732308</td>\n",
       "    </tr>\n",
       "    <tr>\n",
       "      <th>CBPGEC</th>\n",
       "      <th>IT</th>\n",
       "      <td>6.970588</td>\n",
       "      <td>67.145098</td>\n",
       "    </tr>\n",
       "    <tr>\n",
       "      <th rowspan=\"2\" valign=\"top\">DITM</th>\n",
       "      <th>CSE</th>\n",
       "      <td>6.103896</td>\n",
       "      <td>59.472727</td>\n",
       "    </tr>\n",
       "    <tr>\n",
       "      <th>ECE</th>\n",
       "      <td>5.629310</td>\n",
       "      <td>65.159000</td>\n",
       "    </tr>\n",
       "    <tr>\n",
       "      <th rowspan=\"3\" valign=\"top\">DTC</th>\n",
       "      <th>CSE</th>\n",
       "      <td>6.269454</td>\n",
       "      <td>64.416260</td>\n",
       "    </tr>\n",
       "    <tr>\n",
       "      <th>ECE</th>\n",
       "      <td>5.309706</td>\n",
       "      <td>62.688537</td>\n",
       "    </tr>\n",
       "    <tr>\n",
       "      <th>MAE</th>\n",
       "      <td>6.511272</td>\n",
       "      <td>63.932609</td>\n",
       "    </tr>\n",
       "    <tr>\n",
       "      <th rowspan=\"3\" valign=\"top\">GBPGEC</th>\n",
       "      <th>CSE</th>\n",
       "      <td>6.048549</td>\n",
       "      <td>60.095313</td>\n",
       "    </tr>\n",
       "    <tr>\n",
       "      <th>ECE</th>\n",
       "      <td>5.839901</td>\n",
       "      <td>57.879821</td>\n",
       "    </tr>\n",
       "    <tr>\n",
       "      <th>MAE</th>\n",
       "      <td>6.809165</td>\n",
       "      <td>65.940678</td>\n",
       "    </tr>\n",
       "    <tr>\n",
       "      <th rowspan=\"3\" valign=\"top\">GNNT</th>\n",
       "      <th>CSE</th>\n",
       "      <td>6.478697</td>\n",
       "      <td>67.250877</td>\n",
       "    </tr>\n",
       "    <tr>\n",
       "      <th>ECE</th>\n",
       "      <td>6.176245</td>\n",
       "      <td>66.237333</td>\n",
       "    </tr>\n",
       "    <tr>\n",
       "      <th>IT</th>\n",
       "      <td>6.107143</td>\n",
       "      <td>64.194643</td>\n",
       "    </tr>\n",
       "    <tr>\n",
       "      <th rowspan=\"4\" valign=\"top\">GTBIT</th>\n",
       "      <th>CSE</th>\n",
       "      <td>6.917435</td>\n",
       "      <td>69.367204</td>\n",
       "    </tr>\n",
       "    <tr>\n",
       "      <th>ECE</th>\n",
       "      <td>6.305474</td>\n",
       "      <td>66.495124</td>\n",
       "    </tr>\n",
       "    <tr>\n",
       "      <th>EEE</th>\n",
       "      <td>5.961957</td>\n",
       "      <td>63.770804</td>\n",
       "    </tr>\n",
       "    <tr>\n",
       "      <th>IT</th>\n",
       "      <td>6.448579</td>\n",
       "      <td>66.524607</td>\n",
       "    </tr>\n",
       "    <tr>\n",
       "      <th rowspan=\"5\" valign=\"top\">HMR</th>\n",
       "      <th>CSE</th>\n",
       "      <td>6.765058</td>\n",
       "      <td>69.100000</td>\n",
       "    </tr>\n",
       "    <tr>\n",
       "      <th>ECE</th>\n",
       "      <td>5.679896</td>\n",
       "      <td>64.925138</td>\n",
       "    </tr>\n",
       "    <tr>\n",
       "      <th>EEE</th>\n",
       "      <td>5.145897</td>\n",
       "      <td>59.247532</td>\n",
       "    </tr>\n",
       "    <tr>\n",
       "      <th>IT</th>\n",
       "      <td>5.680804</td>\n",
       "      <td>62.151563</td>\n",
       "    </tr>\n",
       "    <tr>\n",
       "      <th>MAE</th>\n",
       "      <td>5.930556</td>\n",
       "      <td>61.825000</td>\n",
       "    </tr>\n",
       "    <tr>\n",
       "      <th rowspan=\"2\" valign=\"top\">JIMS</th>\n",
       "      <th>CSE</th>\n",
       "      <td>7.114286</td>\n",
       "      <td>71.486667</td>\n",
       "    </tr>\n",
       "    <tr>\n",
       "      <th>ECE</th>\n",
       "      <td>6.306513</td>\n",
       "      <td>67.446167</td>\n",
       "    </tr>\n",
       "    <tr>\n",
       "      <th rowspan=\"5\" valign=\"top\">MAIT</th>\n",
       "      <th>CSE</th>\n",
       "      <td>7.371595</td>\n",
       "      <td>71.771206</td>\n",
       "    </tr>\n",
       "    <tr>\n",
       "      <th>ECE</th>\n",
       "      <td>6.895855</td>\n",
       "      <td>70.034899</td>\n",
       "    </tr>\n",
       "    <tr>\n",
       "      <th>EEE</th>\n",
       "      <td>6.422443</td>\n",
       "      <td>67.242604</td>\n",
       "    </tr>\n",
       "    <tr>\n",
       "      <th>IT</th>\n",
       "      <td>7.217766</td>\n",
       "      <td>71.391282</td>\n",
       "    </tr>\n",
       "    <tr>\n",
       "      <th>MAE</th>\n",
       "      <td>6.427887</td>\n",
       "      <td>65.063529</td>\n",
       "    </tr>\n",
       "    <tr>\n",
       "      <th rowspan=\"4\" valign=\"top\">MSIT</th>\n",
       "      <th>CSE</th>\n",
       "      <td>7.564231</td>\n",
       "      <td>73.001141</td>\n",
       "    </tr>\n",
       "    <tr>\n",
       "      <th>ECE</th>\n",
       "      <td>7.321839</td>\n",
       "      <td>72.257831</td>\n",
       "    </tr>\n",
       "    <tr>\n",
       "      <th>EEE</th>\n",
       "      <td>7.091737</td>\n",
       "      <td>70.700549</td>\n",
       "    </tr>\n",
       "    <tr>\n",
       "      <th>IT</th>\n",
       "      <td>7.415404</td>\n",
       "      <td>72.900505</td>\n",
       "    </tr>\n",
       "    <tr>\n",
       "      <th rowspan=\"2\" valign=\"top\">MSWAMI</th>\n",
       "      <th>CSE</th>\n",
       "      <td>6.910053</td>\n",
       "      <td>69.701852</td>\n",
       "    </tr>\n",
       "    <tr>\n",
       "      <th>ECE</th>\n",
       "      <td>6.713528</td>\n",
       "      <td>70.258769</td>\n",
       "    </tr>\n",
       "    <tr>\n",
       "      <th rowspan=\"5\" valign=\"top\">NIEC</th>\n",
       "      <th>CSE</th>\n",
       "      <td>6.895448</td>\n",
       "      <td>66.229016</td>\n",
       "    </tr>\n",
       "    <tr>\n",
       "      <th>ECE</th>\n",
       "      <td>6.613101</td>\n",
       "      <td>68.073710</td>\n",
       "    </tr>\n",
       "    <tr>\n",
       "      <th>EEE</th>\n",
       "      <td>6.502809</td>\n",
       "      <td>68.680298</td>\n",
       "    </tr>\n",
       "    <tr>\n",
       "      <th>IT</th>\n",
       "      <td>6.831659</td>\n",
       "      <td>69.173958</td>\n",
       "    </tr>\n",
       "    <tr>\n",
       "      <th>MAE</th>\n",
       "      <td>6.718003</td>\n",
       "      <td>67.814557</td>\n",
       "    </tr>\n",
       "  </tbody>\n",
       "</table>\n",
       "</div>"
      ],
      "text/plain": [
       "                    SGPA  Percentage\n",
       "College Branch                      \n",
       "AIACTR  CSE     7.008145   69.131579\n",
       "        ECE     6.659832   67.791928\n",
       "BMCEM   CSE     6.691558   69.725455\n",
       "        ECE     7.586207   78.273000\n",
       "        EEE     4.321429   47.303000\n",
       "        IT      6.026786   67.066667\n",
       "BMIET   CSE     6.648052   66.739091\n",
       "        ECE     5.682759   63.063600\n",
       "        EEE     7.008929   70.227500\n",
       "BPIT    CSE     7.205898   71.587121\n",
       "        ECE     6.578631   68.718985\n",
       "        EEE     6.933673   73.443214\n",
       "        IT      6.740021   69.167647\n",
       "BVCOE   CSE     7.443230   72.119403\n",
       "        ECE     6.935619   69.924353\n",
       "        EEE     7.180952   71.380250\n",
       "        IT      7.055495   69.732308\n",
       "CBPGEC  IT      6.970588   67.145098\n",
       "DITM    CSE     6.103896   59.472727\n",
       "        ECE     5.629310   65.159000\n",
       "DTC     CSE     6.269454   64.416260\n",
       "        ECE     5.309706   62.688537\n",
       "        MAE     6.511272   63.932609\n",
       "GBPGEC  CSE     6.048549   60.095313\n",
       "        ECE     5.839901   57.879821\n",
       "        MAE     6.809165   65.940678\n",
       "GNNT    CSE     6.478697   67.250877\n",
       "        ECE     6.176245   66.237333\n",
       "        IT      6.107143   64.194643\n",
       "GTBIT   CSE     6.917435   69.367204\n",
       "        ECE     6.305474   66.495124\n",
       "        EEE     5.961957   63.770804\n",
       "        IT      6.448579   66.524607\n",
       "HMR     CSE     6.765058   69.100000\n",
       "        ECE     5.679896   64.925138\n",
       "        EEE     5.145897   59.247532\n",
       "        IT      5.680804   62.151563\n",
       "        MAE     5.930556   61.825000\n",
       "JIMS    CSE     7.114286   71.486667\n",
       "        ECE     6.306513   67.446167\n",
       "MAIT    CSE     7.371595   71.771206\n",
       "        ECE     6.895855   70.034899\n",
       "        EEE     6.422443   67.242604\n",
       "        IT      7.217766   71.391282\n",
       "        MAE     6.427887   65.063529\n",
       "MSIT    CSE     7.564231   73.001141\n",
       "        ECE     7.321839   72.257831\n",
       "        EEE     7.091737   70.700549\n",
       "        IT      7.415404   72.900505\n",
       "MSWAMI  CSE     6.910053   69.701852\n",
       "        ECE     6.713528   70.258769\n",
       "NIEC    CSE     6.895448   66.229016\n",
       "        ECE     6.613101   68.073710\n",
       "        EEE     6.502809   68.680298\n",
       "        IT      6.831659   69.173958\n",
       "        MAE     6.718003   67.814557"
      ]
     },
     "execution_count": 364,
     "metadata": {},
     "output_type": "execute_result"
    }
   ],
   "source": [
    "df_3rdSem.groupby(['College', 'Branch']).mean()[['SGPA', 'Percentage']]"
   ]
  },
  {
   "cell_type": "markdown",
   "metadata": {},
   "source": [
    "## SGPA Analysis"
   ]
  },
  {
   "cell_type": "code",
   "execution_count": 460,
   "metadata": {},
   "outputs": [
    {
     "data": {
      "text/html": [
       "<div>\n",
       "<style scoped>\n",
       "    .dataframe tbody tr th:only-of-type {\n",
       "        vertical-align: middle;\n",
       "    }\n",
       "\n",
       "    .dataframe tbody tr th {\n",
       "        vertical-align: top;\n",
       "    }\n",
       "\n",
       "    .dataframe thead th {\n",
       "        text-align: right;\n",
       "    }\n",
       "</style>\n",
       "<table border=\"1\" class=\"dataframe\">\n",
       "  <thead>\n",
       "    <tr style=\"text-align: right;\">\n",
       "      <th></th>\n",
       "      <th>SGPA</th>\n",
       "    </tr>\n",
       "    <tr>\n",
       "      <th>Branch</th>\n",
       "      <th></th>\n",
       "    </tr>\n",
       "  </thead>\n",
       "  <tbody>\n",
       "    <tr>\n",
       "      <th>CSE</th>\n",
       "      <td>8.440791</td>\n",
       "    </tr>\n",
       "    <tr>\n",
       "      <th>ECE</th>\n",
       "      <td>8.327242</td>\n",
       "    </tr>\n",
       "    <tr>\n",
       "      <th>EEE</th>\n",
       "      <td>8.563143</td>\n",
       "    </tr>\n",
       "    <tr>\n",
       "      <th>IT</th>\n",
       "      <td>8.577609</td>\n",
       "    </tr>\n",
       "    <tr>\n",
       "      <th>MAE</th>\n",
       "      <td>8.276840</td>\n",
       "    </tr>\n",
       "  </tbody>\n",
       "</table>\n",
       "</div>"
      ],
      "text/plain": [
       "            SGPA\n",
       "Branch          \n",
       "CSE     8.440791\n",
       "ECE     8.327242\n",
       "EEE     8.563143\n",
       "IT      8.577609\n",
       "MAE     8.276840"
      ]
     },
     "execution_count": 460,
     "metadata": {},
     "output_type": "execute_result"
    }
   ],
   "source": [
    "df_4thSem.groupby('Branch').mean()[['SGPA']]"
   ]
  },
  {
   "cell_type": "markdown",
   "metadata": {},
   "source": [
    "### 4th vs 3rd college level"
   ]
  },
  {
   "cell_type": "code",
   "execution_count": 457,
   "metadata": {},
   "outputs": [
    {
     "data": {
      "image/png": "[encoded data removed]",
      "text/plain": [
       "<Figure size 432x288 with 1 Axes>"
      ]
     },
     "metadata": {
      "needs_background": "light"
     },
     "output_type": "display_data"
    }
   ],
   "source": [
    "sns.distplot(df_4thSem.groupby('College').mean()[['SGPA']], color = \"r\", label='4th semester');\n",
    "sns.distplot(df_3rdSem.groupby('College').mean()[['SGPA']], color = \"g\", label='3rd semester');\n",
    "plt.legend();\n",
    "plt.title('Average SGPA Range (College Level)', fontsize=15);\n",
    "plt.xlabel('SGPA');"
   ]
  },
  {
   "cell_type": "markdown",
   "metadata": {},
   "source": [
    "### 4th vs 3rd branch level"
   ]
  },
  {
   "cell_type": "code",
   "execution_count": 397,
   "metadata": {},
   "outputs": [
    {
     "data": {
      "image/png": "[encoded data removed]",
      "text/plain": [
       "<Figure size 432x288 with 1 Axes>"
      ]
     },
     "metadata": {
      "needs_background": "light"
     },
     "output_type": "display_data"
    }
   ],
   "source": [
    "sns.distplot(df_4thSem.groupby('Branch').mean()[['SGPA']], color = \"r\", label='4th semester');\n",
    "sns.distplot(df_3rdSem.groupby('Branch').mean()[['SGPA']], color = \"g\", label='3rd semester');\n",
    "plt.legend();\n",
    "plt.title('Average SGPA Range (Branch Level)', fontsize=15);\n",
    "plt.xlabel('SGPA');"
   ]
  },
  {
   "cell_type": "markdown",
   "metadata": {},
   "source": [
    "### 2nd vs 3rd college level"
   ]
  },
  {
   "cell_type": "code",
   "execution_count": 472,
   "metadata": {},
   "outputs": [
    {
     "data": {
      "image/png": "[encoded data removed]",
      "text/plain": [
       "<Figure size 432x288 with 1 Axes>"
      ]
     },
     "metadata": {
      "needs_background": "light"
     },
     "output_type": "display_data"
    }
   ],
   "source": [
    "sns.distplot(df_neww.groupby('College').mean()[['SGPA']], color = \"r\", label='2nd semester');\n",
    "sns.distplot(df_3rdSem.groupby('College').mean()[['SGPA']], color = \"g\", label='3rd semester');\n",
    "plt.legend();\n",
    "plt.title('Average SGPA Range (College Level)', fontsize=15);\n",
    "plt.xlabel('SGPA');"
   ]
  },
  {
   "cell_type": "markdown",
   "metadata": {},
   "source": [
    "### 2nd vs 4th college level"
   ]
  },
  {
   "cell_type": "code",
   "execution_count": 473,
   "metadata": {},
   "outputs": [
    {
     "data": {
      "image/png": "[encoded data removed]",
      "text/plain": [
       "<Figure size 432x288 with 1 Axes>"
      ]
     },
     "metadata": {
      "needs_background": "light"
     },
     "output_type": "display_data"
    }
   ],
   "source": [
    "sns.distplot(df_neww.groupby('College').mean()[['SGPA']], color = \"r\", label='2nd semester');\n",
    "sns.distplot(df_4thSem.groupby('College').mean()[['SGPA']], color = \"g\", label='4th semester');\n",
    "plt.legend();\n",
    "plt.title('Average SGPA Range (College Level)', fontsize=15);\n",
    "plt.xlabel('SGPA');"
   ]
  },
  {
   "cell_type": "markdown",
   "metadata": {},
   "source": [
    "## Percentage Analysis"
   ]
  },
  {
   "cell_type": "markdown",
   "metadata": {},
   "source": [
    "### 4th vs 3rd college level"
   ]
  },
  {
   "cell_type": "code",
   "execution_count": 396,
   "metadata": {},
   "outputs": [
    {
     "data": {
      "image/png": "[encoded data removed]",
      "text/plain": [
       "<Figure size 432x288 with 1 Axes>"
      ]
     },
     "metadata": {
      "needs_background": "light"
     },
     "output_type": "display_data"
    }
   ],
   "source": [
    "sns.distplot(df_4thSem.groupby('College').mean()[['Percentage']], color = \"r\", label='4th semester');\n",
    "sns.distplot(df_3rdSem.groupby('College').mean()[['Percentage']], color = \"g\", label='3rd semester');\n",
    "plt.legend();\n",
    "plt.title('Average Percentage Range (College Level)', fontsize=15);\n",
    "plt.xlabel('Percentage');"
   ]
  },
  {
   "cell_type": "markdown",
   "metadata": {},
   "source": [
    "### 4th vs 3rd branch level"
   ]
  },
  {
   "cell_type": "code",
   "execution_count": 398,
   "metadata": {},
   "outputs": [
    {
     "data": {
      "image/png": "[encoded data removed]",
      "text/plain": [
       "<Figure size 432x288 with 1 Axes>"
      ]
     },
     "metadata": {
      "needs_background": "light"
     },
     "output_type": "display_data"
    }
   ],
   "source": [
    "sns.distplot(df_4thSem.groupby('Branch').mean()[['Percentage']], color = \"r\", label='4th semester');\n",
    "sns.distplot(df_3rdSem.groupby('Branch').mean()[['Percentage']], color = \"g\", label='3rd semester');\n",
    "plt.legend();\n",
    "plt.title('Average Percentage Range (Branch Level)', fontsize=15);\n",
    "plt.xlabel('Percentage');"
   ]
  },
  {
   "cell_type": "markdown",
   "metadata": {},
   "source": [
    "### 2nd vs 4th college level"
   ]
  },
  {
   "cell_type": "code",
   "execution_count": 475,
   "metadata": {},
   "outputs": [
    {
     "data": {
      "image/png": "[encoded data removed]",
      "text/plain": [
       "<Figure size 432x288 with 1 Axes>"
      ]
     },
     "metadata": {
      "needs_background": "light"
     },
     "output_type": "display_data"
    }
   ],
   "source": [
    "sns.distplot(df_neww.groupby('College').mean()[['Percentage']], color = \"r\", label='2nd semester');\n",
    "sns.distplot(df_4thSem.groupby('College').mean()[['Percentage']], color = \"g\", label='4th semester');\n",
    "plt.legend();\n",
    "plt.title('Average Percentage Range (College Level)', fontsize=15);\n",
    "plt.xlabel('Percentage');"
   ]
  },
  {
   "cell_type": "markdown",
   "metadata": {},
   "source": [
    "## Perfect SGPA determination"
   ]
  },
  {
   "cell_type": "markdown",
   "metadata": {},
   "source": [
    "### 4th sem"
   ]
  },
  {
   "cell_type": "code",
   "execution_count": 425,
   "metadata": {},
   "outputs": [
    {
     "data": {
      "text/plain": [
       "College  Branch\n",
       "BMIET    CSE        1\n",
       "BPIT     CSE       14\n",
       "         ECE       13\n",
       "         EEE        7\n",
       "         IT        11\n",
       "GNNT     CSE        1\n",
       "HMR      CSE        2\n",
       "         IT         1\n",
       "JIMS     CSE        1\n",
       "MAIT     CSE        3\n",
       "         ECE        6\n",
       "         IT        21\n",
       "MSIT     CSE       26\n",
       "         ECE        9\n",
       "         EEE        2\n",
       "         IT        12\n",
       "MSWAMI   CSE        1\n",
       "NIEC     CSE       10\n",
       "         ECE        8\n",
       "         EEE        7\n",
       "         IT        10\n",
       "         MAE        3\n",
       "Name: SGPA, dtype: int64"
      ]
     },
     "execution_count": 425,
     "metadata": {},
     "output_type": "execute_result"
    }
   ],
   "source": [
    "df_4thSem[df_4thSem['SGPA'] == 10].groupby(['College','Branch']).count()['SGPA']"
   ]
  },
  {
   "cell_type": "markdown",
   "metadata": {},
   "source": [
    "### 3rd sem"
   ]
  },
  {
   "cell_type": "code",
   "execution_count": 419,
   "metadata": {},
   "outputs": [
    {
     "data": {
      "text/plain": [
       "Series([], Name: SGPA, dtype: int64)"
      ]
     },
     "execution_count": 419,
     "metadata": {},
     "output_type": "execute_result"
    }
   ],
   "source": [
    "df_3rdSem[df_3rdSem['SGPA'] == 10].groupby(['College','Branch']).count()['SGPA']"
   ]
  },
  {
   "cell_type": "code",
   "execution_count": 449,
   "metadata": {
    "scrolled": false
   },
   "outputs": [
    {
     "data": {
      "text/plain": [
       "College  Branch\n",
       "AIACTR   ECE        4\n",
       "BMIET    CSE        1\n",
       "BPIT     CSE        5\n",
       "         ECE        7\n",
       "         EEE        2\n",
       "         IT         1\n",
       "BVCOE    CSE        6\n",
       "         ECE        3\n",
       "         EEE        1\n",
       "         IT         4\n",
       "DTC      CSE        1\n",
       "GTBIT    CSE        1\n",
       "         IT         1\n",
       "HMR      CSE        3\n",
       "         ECE        1\n",
       "MAIT     CSE       11\n",
       "         ECE        3\n",
       "         EEE        1\n",
       "         IT         2\n",
       "         MAE        1\n",
       "MSIT     CSE       14\n",
       "         ECE        6\n",
       "         EEE        4\n",
       "         IT         8\n",
       "NIEC     CSE        4\n",
       "         ECE        3\n",
       "         EEE        3\n",
       "         IT         6\n",
       "         MAE        1\n",
       "Name: SGPA, dtype: int64"
      ]
     },
     "execution_count": 449,
     "metadata": {},
     "output_type": "execute_result"
    }
   ],
   "source": [
    "df_3rdSem[(df_3rdSem['SGPA'] > 9)].groupby(['College','Branch']).count()['SGPA']"
   ]
  },
  {
   "cell_type": "markdown",
   "metadata": {},
   "source": [
    "### Perfect 10 SGPA "
   ]
  },
  {
   "cell_type": "code",
   "execution_count": 446,
   "metadata": {},
   "outputs": [
    {
     "data": {
      "image/png": "[encoded data removed]",
      "text/plain": [
       "<Figure size 432x288 with 1 Axes>"
      ]
     },
     "metadata": {
      "needs_background": "light"
     },
     "output_type": "display_data"
    }
   ],
   "source": [
    "df_4thSem[df_4thSem['SGPA'] == 10].groupby(['College']).count()['SGPA'].plot(kind='barh');\n",
    "plt.title('Perfect 10 SGPA 4th sem', fontsize=15);\n",
    "plt.xlabel('Number of students');"
   ]
  },
  {
   "cell_type": "code",
   "execution_count": 448,
   "metadata": {},
   "outputs": [
    {
     "data": {
      "image/png": "[encoded data removed]",
      "text/plain": [
       "<Figure size 432x288 with 1 Axes>"
      ]
     },
     "metadata": {
      "needs_background": "light"
     },
     "output_type": "display_data"
    }
   ],
   "source": [
    "df_4thSem[df_4thSem['SGPA'] == 10].groupby(['Branch']).count()['SGPA'].plot(kind='barh');\n",
    "plt.title('Perfect 10 SGPA 4th sem', fontsize=15);\n",
    "plt.xlabel('Number of students');"
   ]
  },
  {
   "cell_type": "markdown",
   "metadata": {},
   "source": [
    "### SGPA > 9"
   ]
  },
  {
   "cell_type": "code",
   "execution_count": 450,
   "metadata": {},
   "outputs": [
    {
     "data": {
      "image/png": "[encoded data removed]",
      "text/plain": [
       "<Figure size 432x288 with 1 Axes>"
      ]
     },
     "metadata": {
      "needs_background": "light"
     },
     "output_type": "display_data"
    }
   ],
   "source": [
    "df_3rdSem[df_3rdSem['SGPA'] > 9].groupby(['College']).count()['SGPA'].plot(kind='barh');\n",
    "plt.title('SGPA 3rd sem >9', fontsize=15);\n",
    "plt.xlabel('Number of students');"
   ]
  },
  {
   "cell_type": "code",
   "execution_count": 452,
   "metadata": {},
   "outputs": [
    {
     "data": {
      "image/png": "[encoded data removed]",
      "text/plain": [
       "<Figure size 432x288 with 1 Axes>"
      ]
     },
     "metadata": {
      "needs_background": "light"
     },
     "output_type": "display_data"
    }
   ],
   "source": [
    "df_3rdSem[df_3rdSem['SGPA'] > 9].groupby(['Branch']).count()['SGPA'].plot(kind='barh');\n",
    "plt.title('SGPA 3rd sem >9', fontsize=15);\n",
    "plt.xlabel('Number of students');"
   ]
  },
  {
   "cell_type": "code",
   "execution_count": null,
   "metadata": {},
   "outputs": [],
   "source": []
  }
 ],
 "metadata": {
  "kernelspec": {
   "display_name": "Python 3",
   "language": "python",
   "name": "python3"
  },
  "language_info": {
   "codemirror_mode": {
    "name": "ipython",
    "version": 3
   },
   "file_extension": ".py",
   "mimetype": "text/x-python",
   "name": "python",
   "nbconvert_exporter": "python",
   "pygments_lexer": "ipython3",
   "version": "3.7.6"
  }
 },
 "nbformat": 4,
 "nbformat_minor": 4
}
